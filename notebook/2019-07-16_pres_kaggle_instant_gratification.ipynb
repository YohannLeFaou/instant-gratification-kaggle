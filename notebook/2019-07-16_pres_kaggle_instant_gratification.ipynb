{
 "cells": [
  {
   "cell_type": "markdown",
   "metadata": {},
   "source": [
    "# Kaggle Instant Gratification\n",
    "\n",
    "[https://www.kaggle.com/c/instant-gratification/overview](https://www.kaggle.com/c/instant-gratification/overview)\n",
    "\n",
    "- Binary classification (optimization of AUC)\n",
    "<br/><br/>\n",
    "- An enigmatic advice:\n",
    "\n",
    "Silly column names abound,<br/>\n",
    "but the test set is a mystery.<br/>\n",
    "Careful how you pick and slice,<br/>\n",
    "or be left behind by history."
   ]
  },
  {
   "cell_type": "markdown",
   "metadata": {},
   "source": [
    "# Import modules"
   ]
  },
  {
   "cell_type": "code",
   "execution_count": 25,
   "metadata": {},
   "outputs": [],
   "source": [
    "import numpy as np\n",
    "import pandas as pd\n",
    "import os\n",
    "\n",
    "from tqdm import tqdm\n",
    "import matplotlib.pyplot as plt\n",
    "\n",
    "from sklearn.model_selection import StratifiedKFold, KFold, train_test_split\n",
    "from sklearn.feature_selection import VarianceThreshold\n",
    "from sklearn.metrics import roc_auc_score\n",
    "from sklearn.discriminant_analysis import QuadraticDiscriminantAnalysis\n",
    "from sklearn.mixture import GaussianMixture\n",
    "\n",
    "from sklearn.ensemble import RandomForestClassifier\n",
    "#from lightgbm import LGBMClassifier\n",
    "#import xgboost as xgb\n",
    "\n",
    "import pandas_profiling # descriptive statistics dataset\n",
    "\n",
    "%matplotlib inline"
   ]
  },
  {
   "cell_type": "markdown",
   "metadata": {},
   "source": [
    "# Load data and do descripive statistics\n",
    "\n",
    "data is available at [https://www.kaggle.com/c/instant-gratification/data](https://www.kaggle.com/c/instant-gratification/data)"
   ]
  },
  {
   "cell_type": "code",
   "execution_count": null,
   "metadata": {},
   "outputs": [],
   "source": [
    "train = pd.read_csv('../data/train.csv') #changer le path : ../input/\n",
    "test = pd.read_csv('../data/test.csv')"
   ]
  },
  {
   "cell_type": "code",
   "execution_count": 141,
   "metadata": {},
   "outputs": [
    {
     "name": "stdout",
     "output_type": "stream",
     "text": [
      "(262144, 258)\n",
      "(131073, 257)\n"
     ]
    }
   ],
   "source": [
    "print(train.shape)\n",
    "print(test.shape)"
   ]
  },
  {
   "cell_type": "code",
   "execution_count": 4,
   "metadata": {},
   "outputs": [
    {
     "data": {
      "text/html": [
       "<div>\n",
       "<style scoped>\n",
       "    .dataframe tbody tr th:only-of-type {\n",
       "        vertical-align: middle;\n",
       "    }\n",
       "\n",
       "    .dataframe tbody tr th {\n",
       "        vertical-align: top;\n",
       "    }\n",
       "\n",
       "    .dataframe thead th {\n",
       "        text-align: right;\n",
       "    }\n",
       "</style>\n",
       "<table border=\"1\" class=\"dataframe\">\n",
       "  <thead>\n",
       "    <tr style=\"text-align: right;\">\n",
       "      <th></th>\n",
       "      <th>id</th>\n",
       "      <th>muggy-smalt-axolotl-pembus</th>\n",
       "      <th>dorky-peach-sheepdog-ordinal</th>\n",
       "      <th>slimy-seashell-cassowary-goose</th>\n",
       "      <th>snazzy-harlequin-chicken-distraction</th>\n",
       "      <th>frumpy-smalt-mau-ordinal</th>\n",
       "      <th>stealthy-beige-pinscher-golden</th>\n",
       "      <th>chummy-cream-tarantula-entropy</th>\n",
       "      <th>hazy-emerald-cuttlefish-unsorted</th>\n",
       "      <th>nerdy-indigo-wolfhound-sorted</th>\n",
       "      <th>...</th>\n",
       "      <th>wheezy-myrtle-mandrill-entropy</th>\n",
       "      <th>wiggy-lilac-lemming-sorted</th>\n",
       "      <th>gloppy-cerise-snail-contributor</th>\n",
       "      <th>woozy-silver-havanese-gaussian</th>\n",
       "      <th>jumpy-thistle-discus-sorted</th>\n",
       "      <th>muggy-turquoise-donkey-important</th>\n",
       "      <th>blurry-buff-hyena-entropy</th>\n",
       "      <th>bluesy-chocolate-kudu-fepid</th>\n",
       "      <th>gamy-white-monster-expert</th>\n",
       "      <th>target</th>\n",
       "    </tr>\n",
       "  </thead>\n",
       "  <tbody>\n",
       "    <tr>\n",
       "      <th>0</th>\n",
       "      <td>707b395ecdcbb4dc2eabea00e4d1b179</td>\n",
       "      <td>-2.070654</td>\n",
       "      <td>1.018160</td>\n",
       "      <td>0.228643</td>\n",
       "      <td>0.857221</td>\n",
       "      <td>0.052271</td>\n",
       "      <td>0.230303</td>\n",
       "      <td>-6.385090</td>\n",
       "      <td>0.439369</td>\n",
       "      <td>-0.721946</td>\n",
       "      <td>...</td>\n",
       "      <td>0.351895</td>\n",
       "      <td>0.618824</td>\n",
       "      <td>-1.542423</td>\n",
       "      <td>0.598175</td>\n",
       "      <td>0.611757</td>\n",
       "      <td>0.678772</td>\n",
       "      <td>0.247059</td>\n",
       "      <td>-0.806677</td>\n",
       "      <td>-0.193649</td>\n",
       "      <td>0</td>\n",
       "    </tr>\n",
       "    <tr>\n",
       "      <th>1</th>\n",
       "      <td>5880c03c6582a7b42248668e56b4bdec</td>\n",
       "      <td>-0.491702</td>\n",
       "      <td>0.082645</td>\n",
       "      <td>-0.011193</td>\n",
       "      <td>1.071266</td>\n",
       "      <td>-0.346347</td>\n",
       "      <td>-0.082209</td>\n",
       "      <td>0.110579</td>\n",
       "      <td>-0.382374</td>\n",
       "      <td>-0.229620</td>\n",
       "      <td>...</td>\n",
       "      <td>-0.645115</td>\n",
       "      <td>-1.246090</td>\n",
       "      <td>2.613357</td>\n",
       "      <td>-0.479664</td>\n",
       "      <td>1.581289</td>\n",
       "      <td>0.931258</td>\n",
       "      <td>0.151937</td>\n",
       "      <td>-0.766595</td>\n",
       "      <td>0.474351</td>\n",
       "      <td>0</td>\n",
       "    </tr>\n",
       "    <tr>\n",
       "      <th>2</th>\n",
       "      <td>4ccbcb3d13e5072ff1d9c61afe2c4f77</td>\n",
       "      <td>-1.680473</td>\n",
       "      <td>0.860529</td>\n",
       "      <td>-1.076195</td>\n",
       "      <td>0.740124</td>\n",
       "      <td>3.678445</td>\n",
       "      <td>0.288558</td>\n",
       "      <td>0.515875</td>\n",
       "      <td>0.920590</td>\n",
       "      <td>-1.223277</td>\n",
       "      <td>...</td>\n",
       "      <td>0.516422</td>\n",
       "      <td>0.130521</td>\n",
       "      <td>-0.459210</td>\n",
       "      <td>2.028205</td>\n",
       "      <td>-0.093968</td>\n",
       "      <td>-0.218274</td>\n",
       "      <td>-0.163136</td>\n",
       "      <td>-0.870289</td>\n",
       "      <td>0.064038</td>\n",
       "      <td>1</td>\n",
       "    </tr>\n",
       "    <tr>\n",
       "      <th>3</th>\n",
       "      <td>e350f17a357f12a1941f0837afb7eb8d</td>\n",
       "      <td>0.183774</td>\n",
       "      <td>0.919134</td>\n",
       "      <td>-0.946958</td>\n",
       "      <td>0.918492</td>\n",
       "      <td>0.862278</td>\n",
       "      <td>1.155287</td>\n",
       "      <td>0.911106</td>\n",
       "      <td>0.562598</td>\n",
       "      <td>-1.349685</td>\n",
       "      <td>...</td>\n",
       "      <td>-1.168967</td>\n",
       "      <td>1.385089</td>\n",
       "      <td>-0.353028</td>\n",
       "      <td>3.316150</td>\n",
       "      <td>-0.524087</td>\n",
       "      <td>-0.794327</td>\n",
       "      <td>3.936365</td>\n",
       "      <td>0.682989</td>\n",
       "      <td>-2.521211</td>\n",
       "      <td>0</td>\n",
       "    </tr>\n",
       "    <tr>\n",
       "      <th>4</th>\n",
       "      <td>a8f910ea6075b6376af079055965ff68</td>\n",
       "      <td>-0.203933</td>\n",
       "      <td>-0.177252</td>\n",
       "      <td>0.368074</td>\n",
       "      <td>-0.701320</td>\n",
       "      <td>-1.104391</td>\n",
       "      <td>0.735760</td>\n",
       "      <td>0.894273</td>\n",
       "      <td>-1.375826</td>\n",
       "      <td>-5.144946</td>\n",
       "      <td>...</td>\n",
       "      <td>-0.279168</td>\n",
       "      <td>1.544356</td>\n",
       "      <td>2.959727</td>\n",
       "      <td>1.641201</td>\n",
       "      <td>-0.130818</td>\n",
       "      <td>-0.264292</td>\n",
       "      <td>-0.748668</td>\n",
       "      <td>0.964218</td>\n",
       "      <td>0.087079</td>\n",
       "      <td>0</td>\n",
       "    </tr>\n",
       "  </tbody>\n",
       "</table>\n",
       "<p>5 rows × 258 columns</p>\n",
       "</div>"
      ],
      "text/plain": [
       "                                 id  muggy-smalt-axolotl-pembus  \\\n",
       "0  707b395ecdcbb4dc2eabea00e4d1b179                   -2.070654   \n",
       "1  5880c03c6582a7b42248668e56b4bdec                   -0.491702   \n",
       "2  4ccbcb3d13e5072ff1d9c61afe2c4f77                   -1.680473   \n",
       "3  e350f17a357f12a1941f0837afb7eb8d                    0.183774   \n",
       "4  a8f910ea6075b6376af079055965ff68                   -0.203933   \n",
       "\n",
       "   dorky-peach-sheepdog-ordinal  slimy-seashell-cassowary-goose  \\\n",
       "0                      1.018160                        0.228643   \n",
       "1                      0.082645                       -0.011193   \n",
       "2                      0.860529                       -1.076195   \n",
       "3                      0.919134                       -0.946958   \n",
       "4                     -0.177252                        0.368074   \n",
       "\n",
       "   snazzy-harlequin-chicken-distraction  frumpy-smalt-mau-ordinal  \\\n",
       "0                              0.857221                  0.052271   \n",
       "1                              1.071266                 -0.346347   \n",
       "2                              0.740124                  3.678445   \n",
       "3                              0.918492                  0.862278   \n",
       "4                             -0.701320                 -1.104391   \n",
       "\n",
       "   stealthy-beige-pinscher-golden  chummy-cream-tarantula-entropy  \\\n",
       "0                        0.230303                       -6.385090   \n",
       "1                       -0.082209                        0.110579   \n",
       "2                        0.288558                        0.515875   \n",
       "3                        1.155287                        0.911106   \n",
       "4                        0.735760                        0.894273   \n",
       "\n",
       "   hazy-emerald-cuttlefish-unsorted  nerdy-indigo-wolfhound-sorted  ...  \\\n",
       "0                          0.439369                      -0.721946  ...   \n",
       "1                         -0.382374                      -0.229620  ...   \n",
       "2                          0.920590                      -1.223277  ...   \n",
       "3                          0.562598                      -1.349685  ...   \n",
       "4                         -1.375826                      -5.144946  ...   \n",
       "\n",
       "   wheezy-myrtle-mandrill-entropy  wiggy-lilac-lemming-sorted  \\\n",
       "0                        0.351895                    0.618824   \n",
       "1                       -0.645115                   -1.246090   \n",
       "2                        0.516422                    0.130521   \n",
       "3                       -1.168967                    1.385089   \n",
       "4                       -0.279168                    1.544356   \n",
       "\n",
       "   gloppy-cerise-snail-contributor  woozy-silver-havanese-gaussian  \\\n",
       "0                        -1.542423                        0.598175   \n",
       "1                         2.613357                       -0.479664   \n",
       "2                        -0.459210                        2.028205   \n",
       "3                        -0.353028                        3.316150   \n",
       "4                         2.959727                        1.641201   \n",
       "\n",
       "   jumpy-thistle-discus-sorted  muggy-turquoise-donkey-important  \\\n",
       "0                     0.611757                          0.678772   \n",
       "1                     1.581289                          0.931258   \n",
       "2                    -0.093968                         -0.218274   \n",
       "3                    -0.524087                         -0.794327   \n",
       "4                    -0.130818                         -0.264292   \n",
       "\n",
       "   blurry-buff-hyena-entropy  bluesy-chocolate-kudu-fepid  \\\n",
       "0                   0.247059                    -0.806677   \n",
       "1                   0.151937                    -0.766595   \n",
       "2                  -0.163136                    -0.870289   \n",
       "3                   3.936365                     0.682989   \n",
       "4                  -0.748668                     0.964218   \n",
       "\n",
       "   gamy-white-monster-expert  target  \n",
       "0                  -0.193649       0  \n",
       "1                   0.474351       0  \n",
       "2                   0.064038       1  \n",
       "3                  -2.521211       0  \n",
       "4                   0.087079       0  \n",
       "\n",
       "[5 rows x 258 columns]"
      ]
     },
     "execution_count": 4,
     "metadata": {},
     "output_type": "execute_result"
    }
   ],
   "source": [
    "train.head()"
   ]
  },
  {
   "cell_type": "code",
   "execution_count": 17,
   "metadata": {
    "scrolled": true
   },
   "outputs": [
    {
     "name": "stdout",
     "output_type": "stream",
     "text": [
      "CPU times: user 1min 19s, sys: 2.29 s, total: 1min 22s\n",
      "Wall time: 1min 34s\n"
     ]
    }
   ],
   "source": [
    "%%time\n",
    "profile = pandas_profiling.ProfileReport(train.sample(n=10000))"
   ]
  },
  {
   "cell_type": "code",
   "execution_count": 41,
   "metadata": {},
   "outputs": [],
   "source": [
    "profile.to_file()"
   ]
  },
  {
   "cell_type": "markdown",
   "metadata": {},
   "source": [
    "Remark :\n",
    "- a little bit slow on big datasets: here launch on a sample of 10000 obs. only -> about 1 minute"
   ]
  },
  {
   "cell_type": "code",
   "execution_count": 13,
   "metadata": {},
   "outputs": [
    {
     "data": {
      "text/plain": [
       "(262144, 258)"
      ]
     },
     "execution_count": 13,
     "metadata": {},
     "output_type": "execute_result"
    }
   ],
   "source": [
    "%%time # on peut comparer avec un describe\n",
    "train.describe()"
   ]
  },
  {
   "cell_type": "markdown",
   "metadata": {},
   "source": [
    "# First model"
   ]
  },
  {
   "cell_type": "code",
   "execution_count": 21,
   "metadata": {},
   "outputs": [],
   "source": [
    "X_train, X_val, y_train, y_val = train_test_split(train.drop(['id', 'target'], axis=1),\n",
    "                                                  train['target'].values,\n",
    "                                                  test_size=0.3,\n",
    "                                                  random_state=2019)"
   ]
  },
  {
   "cell_type": "code",
   "execution_count": 29,
   "metadata": {},
   "outputs": [],
   "source": [
    "rf1 = RandomForestClassifier(n_estimators=100,\n",
    "                             max_depth=10,\n",
    "                             n_jobs=-1)"
   ]
  },
  {
   "cell_type": "code",
   "execution_count": 30,
   "metadata": {},
   "outputs": [
    {
     "data": {
      "text/plain": [
       "RandomForestClassifier(bootstrap=True, class_weight=None, criterion='gini',\n",
       "            max_depth=10, max_features='auto', max_leaf_nodes=None,\n",
       "            min_impurity_decrease=0.0, min_impurity_split=None,\n",
       "            min_samples_leaf=1, min_samples_split=2,\n",
       "            min_weight_fraction_leaf=0.0, n_estimators=100, n_jobs=-1,\n",
       "            oob_score=False, random_state=None, verbose=0,\n",
       "            warm_start=False)"
      ]
     },
     "execution_count": 30,
     "metadata": {},
     "output_type": "execute_result"
    }
   ],
   "source": [
    "rf1.fit(X_train, y_train)"
   ]
  },
  {
   "cell_type": "code",
   "execution_count": 31,
   "metadata": {},
   "outputs": [
    {
     "data": {
      "text/plain": [
       "0.5312056263862484"
      ]
     },
     "execution_count": 31,
     "metadata": {},
     "output_type": "execute_result"
    }
   ],
   "source": [
    "roc_auc_score(y_val, rf1.predict_proba(X_val)[:,1])"
   ]
  },
  {
   "cell_type": "markdown",
   "metadata": {},
   "source": [
    "# Some more in-depth data exploration"
   ]
  },
  {
   "cell_type": "code",
   "execution_count": 37,
   "metadata": {},
   "outputs": [],
   "source": [
    "var = [col for col in train.columns if col not in ['id', 'target']]"
   ]
  },
  {
   "cell_type": "code",
   "execution_count": 39,
   "metadata": {
    "scrolled": true
   },
   "outputs": [
    {
     "name": "stderr",
     "output_type": "stream",
     "text": [
      "/anaconda3/lib/python3.7/site-packages/matplotlib/pyplot.py:514: RuntimeWarning: More than 20 figures have been opened. Figures created through the pyplot interface (`matplotlib.pyplot.figure`) are retained until explicitly closed and may consume too much memory. (To control this warning, see the rcParam `figure.max_open_warning`).\n",
      "  max_open_warning, RuntimeWarning)\n"
     ]
    },
    {
     "data": {
      "image/png": "[encoded data removed]",
      "text/plain": [
       "<Figure size 432x288 with 1 Axes>"
      ]
     },
     "metadata": {
      "needs_background": "light"
     },
     "output_type": "display_data"
    },
    {
     "data": {
      "image/png": "[encoded data removed]",
      "text/plain": [
       "<Figure size 432x288 with 1 Axes>"
      ]
     },
     "metadata": {
      "needs_background": "light"
     },
     "output_type": "display_data"
    },
    {
     "data": {
      "image/png": "[encoded data removed]",
      "text/plain": [
       "<Figure size 432x288 with 1 Axes>"
      ]
     },
     "metadata": {
      "needs_background": "light"
     },
     "output_type": "display_data"
    },
    {
     "data": {
      "image/png": "[encoded data removed]",
      "text/plain": [
       "<Figure size 432x288 with 1 Axes>"
      ]
     },
     "metadata": {
      "needs_background": "light"
     },
     "output_type": "display_data"
    },
    {
     "data": {
      "image/png": "[encoded data removed]",
      "text/plain": [
       "<Figure size 432x288 with 1 Axes>"
      ]
     },
     "metadata": {
      "needs_background": "light"
     },
     "output_type": "display_data"
    },
    {
     "data": {
      "image/png": "[encoded data removed]",
      "text/plain": [
       "<Figure size 432x288 with 1 Axes>"
      ]
     },
     "metadata": {
      "needs_background": "light"
     },
     "output_type": "display_data"
    },
    {
     "data": {
      "image/png": "[encoded data removed]",
      "text/plain": [
       "<Figure size 432x288 with 1 Axes>"
      ]
     },
     "metadata": {
      "needs_background": "light"
     },
     "output_type": "display_data"
    },
    {
     "data": {
      "image/png": "[encoded data removed]",
      "text/plain": [
       "<Figure size 432x288 with 1 Axes>"
      ]
     },
     "metadata": {
      "needs_background": "light"
     },
     "output_type": "display_data"
    },
    {
     "data": {
      "image/png": "[encoded data removed]",
      "text/plain": [
       "<Figure size 432x288 with 1 Axes>"
      ]
     },
     "metadata": {
      "needs_background": "light"
     },
     "output_type": "display_data"
    },
    {
     "data": {
      "image/png": "[encoded data removed]",
      "text/plain": [
       "<Figure size 432x288 with 1 Axes>"
      ]
     },
     "metadata": {
      "needs_background": "light"
     },
     "output_type": "display_data"
    },
    {
     "data": {
      "image/png": "[encoded data removed]",
      "text/plain": [
       "<Figure size 432x288 with 1 Axes>"
      ]
     },
     "metadata": {
      "needs_background": "light"
     },
     "output_type": "display_data"
    },
    {
     "data": {
      "image/png": "[encoded data removed]",
      "text/plain": [
       "<Figure size 432x288 with 1 Axes>"
      ]
     },
     "metadata": {
      "needs_background": "light"
     },
     "output_type": "display_data"
    },
    {
     "data": {
      "image/png": "[encoded data removed]",
      "text/plain": [
       "<Figure size 432x288 with 1 Axes>"
      ]
     },
     "metadata": {
      "needs_background": "light"
     },
     "output_type": "display_data"
    },
    {
     "data": {
      "image/png": "[encoded data removed]",
      "text/plain": [
       "<Figure size 432x288 with 1 Axes>"
      ]
     },
     "metadata": {
      "needs_background": "light"
     },
     "output_type": "display_data"
    },
    {
     "data": {
      "image/png": "[encoded data removed]",
      "text/plain": [
       "<Figure size 432x288 with 1 Axes>"
      ]
     },
     "metadata": {
      "needs_background": "light"
     },
     "output_type": "display_data"
    },
    {
     "data": {
      "image/png": "[encoded data removed]",
      "text/plain": [
       "<Figure size 432x288 with 1 Axes>"
      ]
     },
     "metadata": {
      "needs_background": "light"
     },
     "output_type": "display_data"
    },
    {
     "data": {
      "image/png": "[encoded data removed]",
      "text/plain": [
       "<Figure size 432x288 with 1 Axes>"
      ]
     },
     "metadata": {
      "needs_background": "light"
     },
     "output_type": "display_data"
    },
    {
     "data": {
      "image/png": "[encoded data removed]",
      "text/plain": [
       "<Figure size 432x288 with 1 Axes>"
      ]
     },
     "metadata": {
      "needs_background": "light"
     },
     "output_type": "display_data"
    },
    {
     "data": {
      "image/png": "[encoded data removed]",
      "text/plain": [
       "<Figure size 432x288 with 1 Axes>"
      ]
     },
     "metadata": {
      "needs_background": "light"
     },
     "output_type": "display_data"
    },
    {
     "data": {
      "image/png": "[encoded data removed]",
      "text/plain": [
       "<Figure size 432x288 with 1 Axes>"
      ]
     },
     "metadata": {
      "needs_background": "light"
     },
     "output_type": "display_data"
    },
    {
     "data": {
      "image/png": "[encoded data removed]",
      "text/plain": [
       "<Figure size 432x288 with 1 Axes>"
      ]
     },
     "metadata": {
      "needs_background": "light"
     },
     "output_type": "display_data"
    },
    {
     "data": {
      "image/png": "[encoded data removed]",
      "text/plain": [
       "<Figure size 432x288 with 1 Axes>"
      ]
     },
     "metadata": {
      "needs_background": "light"
     },
     "output_type": "display_data"
    },
    {
     "data": {
      "image/png": "[encoded data removed]",
      "text/plain": [
       "<Figure size 432x288 with 1 Axes>"
      ]
     },
     "metadata": {
      "needs_background": "light"
     },
     "output_type": "display_data"
    },
    {
     "data": {
      "image/png": "[encoded data removed]",
      "text/plain": [
       "<Figure size 432x288 with 1 Axes>"
      ]
     },
     "metadata": {
      "needs_background": "light"
     },
     "output_type": "display_data"
    },
    {
     "data": {
      "image/png": "[encoded data removed]",
      "text/plain": [
       "<Figure size 432x288 with 1 Axes>"
      ]
     },
     "metadata": {
      "needs_background": "light"
     },
     "output_type": "display_data"
    },
    {
     "data": {
      "image/png": "[encoded data removed]",
      "text/plain": [
       "<Figure size 432x288 with 1 Axes>"
      ]
     },
     "metadata": {
      "needs_background": "light"
     },
     "output_type": "display_data"
    },
    {
     "data": {
      "image/png": "[encoded data removed]",
      "text/plain": [
       "<Figure size 432x288 with 1 Axes>"
      ]
     },
     "metadata": {
      "needs_background": "light"
     },
     "output_type": "display_data"
    },
    {
     "data": {
      "image/png": "[encoded data removed]",
      "text/plain": [
       "<Figure size 432x288 with 1 Axes>"
      ]
     },
     "metadata": {
      "needs_background": "light"
     },
     "output_type": "display_data"
    },
    {
     "data": {
      "image/png": "[encoded data removed]",
      "text/plain": [
       "<Figure size 432x288 with 1 Axes>"
      ]
     },
     "metadata": {
      "needs_background": "light"
     },
     "output_type": "display_data"
    },
    {
     "data": {
      "image/png": "[encoded data removed]",
      "text/plain": [
       "<Figure size 432x288 with 1 Axes>"
      ]
     },
     "metadata": {
      "needs_background": "light"
     },
     "output_type": "display_data"
    },
    {
     "data": {
      "image/png": "[encoded data removed]",
      "text/plain": [
       "<Figure size 432x288 with 1 Axes>"
      ]
     },
     "metadata": {
      "needs_background": "light"
     },
     "output_type": "display_data"
    },
    {
     "data": {
      "image/png": "[encoded data removed]",
      "text/plain": [
       "<Figure size 432x288 with 1 Axes>"
      ]
     },
     "metadata": {
      "needs_background": "light"
     },
     "output_type": "display_data"
    },
    {
     "data": {
      "image/png": "[encoded data removed]",
      "text/plain": [
       "<Figure size 432x288 with 1 Axes>"
      ]
     },
     "metadata": {
      "needs_background": "light"
     },
     "output_type": "display_data"
    },
    {
     "data": {
      "image/png": "[encoded data removed]",
      "text/plain": [
       "<Figure size 432x288 with 1 Axes>"
      ]
     },
     "metadata": {
      "needs_background": "light"
     },
     "output_type": "display_data"
    },
    {
     "data": {
      "image/png": "[encoded data removed]",
      "text/plain": [
       "<Figure size 432x288 with 1 Axes>"
      ]
     },
     "metadata": {
      "needs_background": "light"
     },
     "output_type": "display_data"
    },
    {
     "data": {
      "image/png": "[encoded data removed]",
      "text/plain": [
       "<Figure size 432x288 with 1 Axes>"
      ]
     },
     "metadata": {
      "needs_background": "light"
     },
     "output_type": "display_data"
    },
    {
     "data": {
      "image/png": "[encoded data removed]",
      "text/plain": [
       "<Figure size 432x288 with 1 Axes>"
      ]
     },
     "metadata": {
      "needs_background": "light"
     },
     "output_type": "display_data"
    },
    {
     "data": {
      "image/png": "[encoded data removed]",
      "text/plain": [
       "<Figure size 432x288 with 1 Axes>"
      ]
     },
     "metadata": {
      "needs_background": "light"
     },
     "output_type": "display_data"
    },
    {
     "data": {
      "image/png": "[encoded data removed]",
      "text/plain": [
       "<Figure size 432x288 with 1 Axes>"
      ]
     },
     "metadata": {
      "needs_background": "light"
     },
     "output_type": "display_data"
    },
    {
     "data": {
      "image/png": "[encoded data removed]",
      "text/plain": [
       "<Figure size 432x288 with 1 Axes>"
      ]
     },
     "metadata": {
      "needs_background": "light"
     },
     "output_type": "display_data"
    },
    {
     "data": {
      "image/png": "[encoded data removed]",
      "text/plain": [
       "<Figure size 432x288 with 1 Axes>"
      ]
     },
     "metadata": {
      "needs_background": "light"
     },
     "output_type": "display_data"
    },
    {
     "data": {
      "image/png": "[encoded data removed]",
      "text/plain": [
       "<Figure size 432x288 with 1 Axes>"
      ]
     },
     "metadata": {
      "needs_background": "light"
     },
     "output_type": "display_data"
    },
    {
     "data": {
      "image/png": "[encoded data removed]",
      "text/plain": [
       "<Figure size 432x288 with 1 Axes>"
      ]
     },
     "metadata": {
      "needs_background": "light"
     },
     "output_type": "display_data"
    },
    {
     "data": {
      "image/png": "[encoded data removed]",
      "text/plain": [
       "<Figure size 432x288 with 1 Axes>"
      ]
     },
     "metadata": {
      "needs_background": "light"
     },
     "output_type": "display_data"
    },
    {
     "data": {
      "image/png": "[encoded data removed]",
      "text/plain": [
       "<Figure size 432x288 with 1 Axes>"
      ]
     },
     "metadata": {
      "needs_background": "light"
     },
     "output_type": "display_data"
    },
    {
     "data": {
      "image/png": "[encoded data removed]",
      "text/plain": [
       "<Figure size 432x288 with 1 Axes>"
      ]
     },
     "metadata": {
      "needs_background": "light"
     },
     "output_type": "display_data"
    },
    {
     "data": {
      "image/png": "[encoded data removed]",
      "text/plain": [
       "<Figure size 432x288 with 1 Axes>"
      ]
     },
     "metadata": {
      "needs_background": "light"
     },
     "output_type": "display_data"
    },
    {
     "data": {
      "image/png": "[encoded data removed]",
      "text/plain": [
       "<Figure size 432x288 with 1 Axes>"
      ]
     },
     "metadata": {
      "needs_background": "light"
     },
     "output_type": "display_data"
    },
    {
     "data": {
      "image/png": "[encoded data removed]",
      "text/plain": [
       "<Figure size 432x288 with 1 Axes>"
      ]
     },
     "metadata": {
      "needs_background": "light"
     },
     "output_type": "display_data"
    },
    {
     "data": {
      "image/png": "[encoded data removed]",
      "text/plain": [
       "<Figure size 432x288 with 1 Axes>"
      ]
     },
     "metadata": {
      "needs_background": "light"
     },
     "output_type": "display_data"
    },
    {
     "data": {
      "image/png": "[encoded data removed]",
      "text/plain": [
       "<Figure size 432x288 with 1 Axes>"
      ]
     },
     "metadata": {
      "needs_background": "light"
     },
     "output_type": "display_data"
    },
    {
     "data": {
      "image/png": "[encoded data removed]",
      "text/plain": [
       "<Figure size 432x288 with 1 Axes>"
      ]
     },
     "metadata": {
      "needs_background": "light"
     },
     "output_type": "display_data"
    },
    {
     "data": {
      "image/png": "[encoded data removed]",
      "text/plain": [
       "<Figure size 432x288 with 1 Axes>"
      ]
     },
     "metadata": {
      "needs_background": "light"
     },
     "output_type": "display_data"
    },
    {
     "data": {
      "image/png": "[encoded data removed]",
      "text/plain": [
       "<Figure size 432x288 with 1 Axes>"
      ]
     },
     "metadata": {
      "needs_background": "light"
     },
     "output_type": "display_data"
    },
    {
     "data": {
      "image/png": "[encoded data removed]",
      "text/plain": [
       "<Figure size 432x288 with 1 Axes>"
      ]
     },
     "metadata": {
      "needs_background": "light"
     },
     "output_type": "display_data"
    }
   ],
   "source": [
    "for col in var[200:len(var)]:\n",
    "    plt.figure()\n",
    "    plt.hist(b[col], bins=100)\n",
    "    plt.ylabel('count')"
   ]
  },
  {
   "cell_type": "code",
   "execution_count": 42,
   "metadata": {},
   "outputs": [
    {
     "data": {
      "text/plain": [
       "51     570\n",
       "489    556\n",
       "298    554\n",
       "135    554\n",
       "245    553\n",
       "50     551\n",
       "180    547\n",
       "104    546\n",
       "126    545\n",
       "86     545\n",
       "335    544\n",
       "299    543\n",
       "61     543\n",
       "311    543\n",
       "76     542\n",
       "373    541\n",
       "391    540\n",
       "441    540\n",
       "64     539\n",
       "268    539\n",
       "452    539\n",
       "41     539\n",
       "150    538\n",
       "3      538\n",
       "460    538\n",
       "22     537\n",
       "444    537\n",
       "28     537\n",
       "250    536\n",
       "367    536\n",
       "      ... \n",
       "244    486\n",
       "447    486\n",
       "306    486\n",
       "14     486\n",
       "330    486\n",
       "412    485\n",
       "115    485\n",
       "13     485\n",
       "179    484\n",
       "503    484\n",
       "279    484\n",
       "375    484\n",
       "32     483\n",
       "360    483\n",
       "490    482\n",
       "157    482\n",
       "74     482\n",
       "340    482\n",
       "11     482\n",
       "402    480\n",
       "233    480\n",
       "85     479\n",
       "339    478\n",
       "422    478\n",
       "501    477\n",
       "277    476\n",
       "215    475\n",
       "108    472\n",
       "42     471\n",
       "185    442\n",
       "Name: wheezy-copper-turtle-magic, Length: 512, dtype: int64"
      ]
     },
     "execution_count": 42,
     "metadata": {},
     "output_type": "execute_result"
    }
   ],
   "source": [
    "train['wheezy-copper-turtle-magic'].value_counts()"
   ]
  },
  {
   "cell_type": "code",
   "execution_count": 38,
   "metadata": {},
   "outputs": [],
   "source": [
    "k=0\n",
    "b = train.loc[train['wheezy-copper-turtle-magic']==k, :]\n",
    "b.shape()"
   ]
  },
  {
   "cell_type": "markdown",
   "metadata": {},
   "source": [
    "## Model on one group\n",
    "### With all variables"
   ]
  },
  {
   "cell_type": "code",
   "execution_count": 43,
   "metadata": {},
   "outputs": [],
   "source": [
    "X_train, X_val, y_train, y_val = train_test_split(b.drop(['id', 'target'], axis=1),\n",
    "                                                  b['target'].values,\n",
    "                                                  test_size=0.3,\n",
    "                                                  random_state=2019)"
   ]
  },
  {
   "cell_type": "code",
   "execution_count": 77,
   "metadata": {},
   "outputs": [],
   "source": [
    "rf1 = RandomForestClassifier(n_estimators=100,\n",
    "                             max_depth=6,\n",
    "                             n_jobs=-1)"
   ]
  },
  {
   "cell_type": "code",
   "execution_count": 78,
   "metadata": {},
   "outputs": [
    {
     "data": {
      "text/plain": [
       "RandomForestClassifier(bootstrap=True, class_weight=None, criterion='gini',\n",
       "            max_depth=6, max_features='auto', max_leaf_nodes=None,\n",
       "            min_impurity_decrease=0.0, min_impurity_split=None,\n",
       "            min_samples_leaf=1, min_samples_split=2,\n",
       "            min_weight_fraction_leaf=0.0, n_estimators=100, n_jobs=-1,\n",
       "            oob_score=False, random_state=None, verbose=0,\n",
       "            warm_start=False)"
      ]
     },
     "execution_count": 78,
     "metadata": {},
     "output_type": "execute_result"
    }
   ],
   "source": [
    "rf1.fit(X_train, y_train)"
   ]
  },
  {
   "cell_type": "code",
   "execution_count": 79,
   "metadata": {},
   "outputs": [
    {
     "data": {
      "text/plain": [
       "0.7524162371134021"
      ]
     },
     "execution_count": 79,
     "metadata": {},
     "output_type": "execute_result"
    }
   ],
   "source": [
    "roc_auc_score(y_val, rf1.predict_proba(X_val)[:,1])"
   ]
  },
  {
   "cell_type": "markdown",
   "metadata": {},
   "source": [
    "### With \"high variance\" variables only"
   ]
  },
  {
   "cell_type": "code",
   "execution_count": 80,
   "metadata": {},
   "outputs": [
    {
     "data": {
      "text/plain": [
       "Index(['muggy-smalt-axolotl-pembus', 'stealthy-beige-pinscher-golden',\n",
       "       'hazy-emerald-cuttlefish-unsorted', 'bluesy-rose-wallaby-discard',\n",
       "       'bumpy-amaranth-armadillo-important', 'dorky-tomato-ragdoll-dataset',\n",
       "       'flaky-goldenrod-bat-noise', 'chewy-myrtle-wasp-important',\n",
       "       'slimy-blue-alligator-master', 'hazy-tan-schnauzer-hint',\n",
       "       'thirsty-gamboge-dragonfly-kernel', 'geeky-amethyst-quetzal-unsorted',\n",
       "       'homey-scarlet-javanese-novice', 'goopy-copper-fousek-distraction',\n",
       "       'blurry-sangria-saola-gaussian', 'paltry-seashell-neanderthal-master',\n",
       "       'crappy-pumpkin-saola-grandmaster', 'flaky-cream-peccary-sorted',\n",
       "       'pokey-russet-hippopotamus-master', 'slimy-thistle-cuscus-hint',\n",
       "       'cozy-khaki-reindeer-golden', 'hasty-puce-fowl-fepid',\n",
       "       'sunny-purple-husky-noise', 'nerdy-teal-olm-fepid',\n",
       "       'snazzy-purple-donkey-discard', 'cozy-vermilion-uguisu-grandmaster',\n",
       "       'seedy-chartreuse-whippet-hint', 'ugly-tangerine-llama-goose',\n",
       "       'cheeky-plum-fox-noise', 'dorky-rose-whale-novice',\n",
       "       'lousy-asparagus-tiger-discard', 'pretty-copper-insect-discard',\n",
       "       'lanky-aqua-bullfrog-important', 'stealthy-azure-gopher-hint',\n",
       "       'hasty-ivory-dragonfly-goose', 'gloppy-firebrick-moth-dataset',\n",
       "       'beady-rust-impala-dummy', 'droopy-amethyst-dachshund-hint',\n",
       "       'homey-crimson-budgerigar-grandmaster',\n",
       "       'crabby-carmine-flounder-sorted', 'skimpy-copper-fowl-grandmaster',\n",
       "       'crappy-beige-tiger-fepid', 'cozy-ochre-gorilla-gaussian',\n",
       "       'baggy-coral-bandicoot-unsorted', 'wheezy-myrtle-mandrill-entropy',\n",
       "       'wiggy-lilac-lemming-sorted'],\n",
       "      dtype='object')"
      ]
     },
     "execution_count": 80,
     "metadata": {},
     "output_type": "execute_result"
    }
   ],
   "source": [
    "a = b[var].drop('wheezy-copper-turtle-magic').apply(np.std, 0)\n",
    "selected_col = a[a > 2].index\n",
    "selected_col"
   ]
  },
  {
   "cell_type": "code",
   "execution_count": 82,
   "metadata": {},
   "outputs": [],
   "source": [
    "X_train, X_val, y_train, y_val = train_test_split(b[selected_col],\n",
    "                                                  b['target'].values,\n",
    "                                                  test_size=0.3,\n",
    "                                                  random_state=2019)"
   ]
  },
  {
   "cell_type": "code",
   "execution_count": 83,
   "metadata": {},
   "outputs": [],
   "source": [
    "rf1 = RandomForestClassifier(n_estimators=100,\n",
    "                             max_depth=6,\n",
    "                             n_jobs=-1)"
   ]
  },
  {
   "cell_type": "code",
   "execution_count": 84,
   "metadata": {},
   "outputs": [
    {
     "data": {
      "text/plain": [
       "RandomForestClassifier(bootstrap=True, class_weight=None, criterion='gini',\n",
       "            max_depth=6, max_features='auto', max_leaf_nodes=None,\n",
       "            min_impurity_decrease=0.0, min_impurity_split=None,\n",
       "            min_samples_leaf=1, min_samples_split=2,\n",
       "            min_weight_fraction_leaf=0.0, n_estimators=100, n_jobs=-1,\n",
       "            oob_score=False, random_state=None, verbose=0,\n",
       "            warm_start=False)"
      ]
     },
     "execution_count": 84,
     "metadata": {},
     "output_type": "execute_result"
    }
   ],
   "source": [
    "rf1.fit(X_train, y_train)"
   ]
  },
  {
   "cell_type": "code",
   "execution_count": 85,
   "metadata": {},
   "outputs": [
    {
     "data": {
      "text/plain": [
       "0.8642074742268041"
      ]
     },
     "execution_count": 85,
     "metadata": {},
     "output_type": "execute_result"
    }
   ],
   "source": [
    "roc_auc_score(y_val, rf1.predict_proba(X_val)[:,1])"
   ]
  },
  {
   "cell_type": "markdown",
   "metadata": {},
   "source": [
    "# Data generated by \"make_classification\" function in sklearn"
   ]
  },
  {
   "cell_type": "markdown",
   "metadata": {},
   "source": [
    "```python\n",
    "NUM_SUB_DATASETS = 512\n",
    "NUM_SAMPLES = 1024\n",
    "NUM_FEATURES = 255\n",
    "MAX_SEED = 2**32 - 1\n",
    "\n",
    "def create_dataset(random_seed):\n",
    "    random.seed(3 + random_seed) #setting a seed for the randint() call below\n",
    "    X,y = make_classification(n_samples=NUM_SAMPLES, \n",
    "                             n_features=NUM_FEATURES, \n",
    "                             n_informative=random.randint(33,47),\n",
    "                             n_redundant=0,\n",
    "                             n_repeated=0,\n",
    "                             n_classes=2,\n",
    "                             n_clusters_per_class=3,\n",
    "                             weights=None,\n",
    "                             flip_y=0.05,\n",
    "                             class_sep=1.0,\n",
    "                             hypercube=True,\n",
    "                             shift=0.0,\n",
    "                             scale=1.0,\n",
    "                             shuffle=True,\n",
    "                             random_state=random_seed)\n",
    "    df = funny_names(X)\n",
    "    df['wheezy-copper-turtle-magic'] = random_seed\n",
    "    df = df.sample(frac=1, axis=1, random_state=random_seed, replace=False) # Shuffle column order so magic variable isn't last\n",
    "    df['target'] = y\n",
    "    return df\n",
    "\n",
    "\n",
    "seed_list = random.sample(range(1,MAX_SEED), NUM_SUB_DATASETS)\n",
    "df = pd.concat([create_dataset(s) for s in seed_list], axis=0, sort = False).reset_index(drop=True)\n",
    "df = df.sample(frac=1, random_state=9726).reset_index(drop=True) # Shuffle rows\n",
    "```\n",
    "\n",
    "\n",
    "### Main steps in `make_classification` (for one group !):\n",
    "- `n_cluster = n_clusters_per_class * n_classes` \n",
    "- `for k in range(n_cluster):`\n",
    "  * Generate `c_k` the cluster centrois randomly on {-1, 1}^p (with p = `n_informative`)\n",
    "  * `X_k = generator.randn(n_samples, n_informative)`\n",
    "  * `X_k = np.dot(X_k, A)`, with `A = 2 * generator.rand(n_informative, n_informative) - 1`\n",
    "  * `X_k += centroid_k`\n",
    "  * Fill `n_features - n_informative` other columns of k with noise\n",
    "  * `y_k = 0` for the firsts `n_clusters_per_class` clusters, 1 for the `n_clusters_per_class` following clusters, etc.\n",
    "  * `flip_y` percent of `y_k` labels are flipped"
   ]
  },
  {
   "cell_type": "markdown",
   "metadata": {},
   "source": [
    "# Two main algorithms : Quadratic discriminant analysis and Gaussian mixture models"
   ]
  },
  {
   "cell_type": "markdown",
   "metadata": {},
   "source": [
    "The generated data is generated as a\n",
    "\n",
    "Other tested models that did not work as well:\n",
    "    - KNN\n",
    "    - LDA\n",
    "    - PCA to reduce the dimension\n",
    "    - Kmeans"
   ]
  },
  {
   "cell_type": "markdown",
   "metadata": {},
   "source": [
    "## QDA : Quadratic discriminant analysis (supervised learning)"
   ]
  },
  {
   "cell_type": "markdown",
   "metadata": {},
   "source": [
    "![gaussian_model_illus1](../images/gaussian_model_illus1.png)"
   ]
  },
  {
   "cell_type": "code",
   "execution_count": 95,
   "metadata": {},
   "outputs": [],
   "source": [
    "X_train, X_val, y_train, y_val = train_test_split(b[selected_col],\n",
    "                                                  b['target'].values,\n",
    "                                                  test_size=0.3,\n",
    "                                                  random_state=2018)\n",
    "\n",
    "X_test = train.loc[train['wheezy-copper-turtle-magic']==k, selected_col]"
   ]
  },
  {
   "cell_type": "code",
   "execution_count": 96,
   "metadata": {},
   "outputs": [],
   "source": [
    "qda = QuadraticDiscriminantAnalysis(reg_param=0.9, store_covariance=True)"
   ]
  },
  {
   "cell_type": "code",
   "execution_count": 97,
   "metadata": {},
   "outputs": [
    {
     "data": {
      "text/plain": [
       "QuadraticDiscriminantAnalysis(priors=None, reg_param=0.9,\n",
       "               store_covariance=True, store_covariances=None, tol=0.0001)"
      ]
     },
     "execution_count": 97,
     "metadata": {},
     "output_type": "execute_result"
    }
   ],
   "source": [
    "qda.fit(X_train, y_train)"
   ]
  },
  {
   "cell_type": "code",
   "execution_count": 98,
   "metadata": {},
   "outputs": [
    {
     "data": {
      "text/plain": [
       "0.9683544303797469"
      ]
     },
     "execution_count": 98,
     "metadata": {},
     "output_type": "execute_result"
    }
   ],
   "source": [
    "roc_auc_score(y_val, rf1.predict_proba(X_val)[:,1])"
   ]
  },
  {
   "cell_type": "markdown",
   "metadata": {},
   "source": [
    "## GMM : Gaussian mixture model (unsupervised learning)"
   ]
  },
  {
   "cell_type": "markdown",
   "metadata": {},
   "source": [
    "### Using it mimicking QDA"
   ]
  },
  {
   "cell_type": "code",
   "execution_count": 108,
   "metadata": {},
   "outputs": [],
   "source": [
    "X_train, X_val, y_train, y_val = train_test_split(b[selected_col],\n",
    "                                                  b['target'].values,\n",
    "                                                  test_size=0.3,\n",
    "                                                  random_state=2018)\n",
    "\n",
    "X_test = train.loc[train['wheezy-copper-turtle-magic']==k, selected_col]"
   ]
  },
  {
   "cell_type": "code",
   "execution_count": 109,
   "metadata": {},
   "outputs": [],
   "source": [
    "def get_mean_cov(x,y):\n",
    "    ones = (y==1).astype(bool)\n",
    "    x1 = x[ones]\n",
    "    cov1 = np.cov(x1.T)\n",
    "    m1 = np.mean(x1, axis = 0)\n",
    "    \n",
    "    onesb = (y==0).astype(bool)\n",
    "    x0 = x[onesb]\n",
    "    cov0 = np.cov(x0.T)\n",
    "    m0 = np.mean(x0, axis = 0)\n",
    "    \n",
    "    ms = np.stack([m0,m1])\n",
    "    ps = np.stack([np.linalg.inv(m) for m in [cov0,cov1]])\n",
    "    return ms,ps"
   ]
  },
  {
   "cell_type": "code",
   "execution_count": 110,
   "metadata": {},
   "outputs": [],
   "source": [
    "ms, ps = get_mean_cov(X_train,y_train)"
   ]
  },
  {
   "cell_type": "code",
   "execution_count": 117,
   "metadata": {},
   "outputs": [
    {
     "data": {
      "text/plain": [
       "GaussianMixture(covariance_type='full', init_params='kmeans', max_iter=100,\n",
       "        means_init=array([[-0.08711,  0.61321, ...,  0.11612, -0.42026],\n",
       "       [ 0.16689, -0.80816, ..., -0.60796,  0.50364]]),\n",
       "        n_components=2, n_init=1,\n",
       "        precisions_init=array([[[ 0.12157,  0.0223 , ...,  0.03167, -0.012  ],\n",
       "        [ 0.0223 ,  0.11351, ...,  0.0098 ,  0.00865],\n",
       "        ...,\n",
       "        [ 0.03167,  0.0098 , ...,  0.10819, -0.00847],\n",
       "        [-0.012  ,  0.00865, ..., -0.00847,  0.10289]],\n",
       "\n",
       "       [[ 0.17853,  0.01821, ..., -0.05104, -0.00488],\n",
       "        [ 0.01821,  0.12772, ...,  0.01353, -0.00772],\n",
       "        ...,\n",
       "        [-0.05104,  0.01353, ...,  0.16218,  0.01114],\n",
       "        [-0.00488, -0.00772, ...,  0.01114,  0.1132 ]]]),\n",
       "        random_state=None, reg_covar=0.5, tol=0.001, verbose=0,\n",
       "        verbose_interval=10, warm_start=False, weights_init=None)"
      ]
     },
     "execution_count": 117,
     "metadata": {},
     "output_type": "execute_result"
    }
   ],
   "source": [
    "gm = GaussianMixture(n_components=2, covariance_type='full', tol=0.001,\n",
    "                     reg_covar=0.5, max_iter=100, n_init=1, means_init=ms, precisions_init=ps)\n",
    "\n",
    "gm.fit(np.concatenate([X_train,X_val,X_test], axis = 0))"
   ]
  },
  {
   "cell_type": "code",
   "execution_count": 118,
   "metadata": {},
   "outputs": [
    {
     "data": {
      "text/plain": [
       "0.9535350416795307"
      ]
     },
     "execution_count": 118,
     "metadata": {},
     "output_type": "execute_result"
    }
   ],
   "source": [
    "roc_auc_score(y_val, gm.predict_proba(X_val)[:,1])"
   ]
  },
  {
   "cell_type": "markdown",
   "metadata": {},
   "source": [
    "### Using it the right way"
   ]
  },
  {
   "cell_type": "markdown",
   "metadata": {},
   "source": [
    "#### 3 clusters per class !\n",
    "![images_3_clusters](../images/gaussian_model_illus_3clusters.jpg)"
   ]
  },
  {
   "cell_type": "code",
   "execution_count": 127,
   "metadata": {},
   "outputs": [
    {
     "data": {
      "text/plain": [
       "GaussianMixture(covariance_type='full', init_params='kmeans', max_iter=100,\n",
       "        means_init=None, n_components=3, n_init=100, precisions_init=None,\n",
       "        random_state=None, reg_covar=0.5, tol=0.001, verbose=0,\n",
       "        verbose_interval=10, warm_start=False,\n",
       "        weights_init=array([0.33333, 0.33333, 0.33333]))"
      ]
     },
     "execution_count": 127,
     "metadata": {},
     "output_type": "execute_result"
    }
   ],
   "source": [
    "n_init = 100\n",
    "n_cluster = 3\n",
    "reg_covar = 0.5\n",
    "\n",
    "gm1 = GaussianMixture(n_components=n_cluster, covariance_type='full', tol=0.001, init_params ='kmeans',\n",
    "                      reg_covar=reg_covar, weights_init=np.ones(n_cluster)/n_cluster,\n",
    "                      n_init=n_init, max_iter=100) #, means_init=ms, precisions_init=ps\n",
    "\n",
    "gm1.fit(X_train.loc[y_train == 1,:])\n",
    "\n",
    "gm0 = GaussianMixture(n_components=n_cluster, covariance_type='full', tol=0.001, init_params ='kmeans',\n",
    "                      reg_covar=reg_covar, weights_init=np.ones(n_cluster)/n_cluster,\n",
    "                      n_init=n_init, max_iter=100)\n",
    "gm0.fit(X_train.loc[y_train == 0,:])"
   ]
  },
  {
   "cell_type": "code",
   "execution_count": 128,
   "metadata": {},
   "outputs": [],
   "source": [
    "gm = GaussianMixture(n_components=2*n_cluster, covariance_type='full', tol=0.001,\n",
    "                     reg_covar=reg_covar, n_init=100, max_iter=100,\n",
    "                     means_init= np.concatenate((gm0.means_, gm1.means_), axis = 0),\n",
    "                     precisions_init=np.concatenate((gm0.precisions_, gm1.precisions_),\n",
    "                                                    axis = 0))"
   ]
  },
  {
   "cell_type": "code",
   "execution_count": 129,
   "metadata": {},
   "outputs": [
    {
     "data": {
      "text/plain": [
       "GaussianMixture(covariance_type='full', init_params='kmeans', max_iter=100,\n",
       "        means_init=array([[ 1.14255,  1.05126, ..., -0.01771, -1.24495],\n",
       "       [-1.89828,  1.14616, ..., -0.2102 , -0.82281],\n",
       "       ...,\n",
       "       [ 0.19923, -1.61188, ...,  1.26053,  3.36943],\n",
       "       [-0.05425, -0.67084, ..., -1.48511, -0.09017]]),\n",
       "        n_components=6, n_init=100,\n",
       "        precisions_init=array([[[ 4.51645e-01,  7.56116e-02, ..., -3.45957e-03, -1.15792e-01],\n",
       "        [ 7.56116e-02,  2.22189e-01, ...,  1.02628e-02,  5.31908e-02],\n",
       "        ...,\n",
       "        [-3.45957e-03,  1.02628e-02, ...,  3.87244e-01, -1.36303e-01],\n",
       "        [-1.15792e-01,  5.31908e-02, ..., -1.36303e-01,  4...1.89034e-01,  7.53657e-03],\n",
       "        [ 4.62466e-04, -2.46456e-02, ...,  7.53657e-03,  1.40308e-01]]]),\n",
       "        random_state=None, reg_covar=0.5, tol=0.001, verbose=0,\n",
       "        verbose_interval=10, warm_start=False, weights_init=None)"
      ]
     },
     "execution_count": 129,
     "metadata": {},
     "output_type": "execute_result"
    }
   ],
   "source": [
    "gm.fit(np.concatenate((X_train, X_val, X_test), axis=0))"
   ]
  },
  {
   "cell_type": "code",
   "execution_count": 130,
   "metadata": {},
   "outputs": [
    {
     "data": {
      "text/plain": [
       "0.9513738808274158"
      ]
     },
     "execution_count": 130,
     "metadata": {},
     "output_type": "execute_result"
    }
   ],
   "source": [
    "# not clear that it is better when ran on a single group\n",
    "roc_auc_score(y_val, gm.predict_proba(X_val)[:,n_cluster:].sum(axis=1) / gm.predict_proba(X_val)[:,:n_cluster].sum(axis=1))"
   ]
  },
  {
   "cell_type": "markdown",
   "metadata": {},
   "source": [
    "# Comparing the scores of both approaches on all the groups"
   ]
  },
  {
   "cell_type": "markdown",
   "metadata": {},
   "source": [
    "## GMM 1cluster"
   ]
  },
  {
   "cell_type": "code",
   "execution_count": 136,
   "metadata": {},
   "outputs": [
    {
     "name": "stderr",
     "output_type": "stream",
     "text": [
      "\n",
      "\n",
      "  0%|          | 0/512 [00:00<?, ?it/s]\u001b[A\u001b[A\n",
      "\n",
      "  0%|          | 1/512 [00:02<23:35,  2.77s/it]\u001b[A\u001b[A\n",
      "\n",
      "  0%|          | 2/512 [00:04<19:57,  2.35s/it]\u001b[A\u001b[A\n",
      "\n",
      "  1%|          | 3/512 [00:05<16:48,  1.98s/it]\u001b[A\u001b[A\n",
      "\n",
      "  1%|          | 4/512 [00:06<14:18,  1.69s/it]\u001b[A\u001b[A\n",
      "\n",
      "  1%|          | 5/512 [00:07<12:23,  1.47s/it]\u001b[A\u001b[A\n",
      "\n",
      "  1%|          | 6/512 [00:08<11:02,  1.31s/it]\u001b[A\u001b[A\n",
      "\n",
      "  1%|▏         | 7/512 [00:08<09:50,  1.17s/it]\u001b[A\u001b[A\n",
      "\n",
      "  2%|▏         | 8/512 [00:10<09:28,  1.13s/it]\u001b[A\u001b[A\n",
      "\n",
      "  2%|▏         | 9/512 [00:10<08:50,  1.05s/it]\u001b[A\u001b[A\n",
      "\n",
      "  2%|▏         | 10/512 [00:12<09:08,  1.09s/it]\u001b[A\u001b[A\n",
      "\n",
      "  2%|▏         | 11/512 [00:13<09:44,  1.17s/it]\u001b[A\u001b[A\n",
      "\n",
      "  2%|▏         | 12/512 [00:14<09:54,  1.19s/it]\u001b[A\u001b[A\n",
      "\n",
      "  3%|▎         | 13/512 [00:15<09:31,  1.15s/it]\u001b[A\u001b[A\n",
      "\n",
      "  3%|▎         | 14/512 [00:16<08:45,  1.06s/it]\u001b[A\u001b[A\n",
      "\n",
      "  3%|▎         | 15/512 [00:17<08:17,  1.00s/it]\u001b[A\u001b[A\n",
      "\n",
      "  3%|▎         | 16/512 [00:18<08:05,  1.02it/s]\u001b[A\u001b[A\n",
      "\n",
      "  3%|▎         | 17/512 [00:19<08:01,  1.03it/s]\u001b[A\u001b[A\n",
      "\n",
      "  4%|▎         | 18/512 [00:20<09:01,  1.10s/it]\u001b[A\u001b[A\n",
      "\n",
      "  4%|▎         | 19/512 [00:21<08:31,  1.04s/it]\u001b[A\u001b[A\n",
      "\n",
      "  4%|▍         | 20/512 [00:23<09:24,  1.15s/it]\u001b[A\u001b[A\n",
      "\n",
      "  4%|▍         | 21/512 [00:24<09:48,  1.20s/it]\u001b[A\u001b[A\n",
      "\n",
      "  4%|▍         | 22/512 [00:25<09:03,  1.11s/it]\u001b[A\u001b[A\n",
      "\n",
      "  4%|▍         | 23/512 [00:26<08:29,  1.04s/it]\u001b[A\u001b[A\n",
      "\n",
      "  5%|▍         | 24/512 [00:27<09:05,  1.12s/it]\u001b[A\u001b[A\n",
      "\n",
      "  5%|▍         | 25/512 [00:28<09:02,  1.11s/it]\u001b[A\u001b[A\n",
      "\n",
      "  5%|▌         | 26/512 [00:29<09:38,  1.19s/it]\u001b[A\u001b[A\n",
      "\n",
      "  5%|▌         | 27/512 [00:31<10:12,  1.26s/it]\u001b[A\u001b[A\n",
      "\n",
      "  5%|▌         | 28/512 [00:33<12:33,  1.56s/it]\u001b[A\u001b[A\n",
      "\n",
      "  6%|▌         | 29/512 [00:34<11:40,  1.45s/it]\u001b[A\u001b[A\n",
      "\n",
      "  6%|▌         | 30/512 [00:36<11:16,  1.40s/it]\u001b[A\u001b[A\n",
      "\n",
      "  6%|▌         | 31/512 [00:37<10:38,  1.33s/it]\u001b[A\u001b[A\n",
      "\n",
      "  6%|▋         | 32/512 [00:38<10:31,  1.32s/it]\u001b[A\u001b[A\n",
      "\n",
      "  6%|▋         | 33/512 [00:39<09:29,  1.19s/it]\u001b[A\u001b[A\n",
      "\n",
      "  7%|▋         | 34/512 [00:40<08:20,  1.05s/it]\u001b[A\u001b[A\n",
      "\n",
      "  7%|▋         | 35/512 [00:40<07:40,  1.04it/s]\u001b[A\u001b[A\n",
      "\n",
      "  7%|▋         | 36/512 [00:41<07:31,  1.05it/s]\u001b[A\u001b[A\n",
      "\n",
      "  7%|▋         | 37/512 [00:42<07:01,  1.13it/s]\u001b[A\u001b[A\n",
      "\n",
      "  7%|▋         | 38/512 [00:43<06:50,  1.16it/s]\u001b[A\u001b[A\n",
      "\n",
      "  8%|▊         | 39/512 [00:44<06:46,  1.16it/s]\u001b[A\u001b[A\n",
      "\n",
      "  8%|▊         | 40/512 [00:45<06:41,  1.18it/s]\u001b[A\u001b[A\n",
      "\n",
      "  8%|▊         | 41/512 [00:45<06:21,  1.23it/s]\u001b[A\u001b[A\n",
      "\n",
      "  8%|▊         | 42/512 [00:46<06:24,  1.22it/s]\u001b[A\u001b[A\n",
      "\n",
      "  8%|▊         | 43/512 [00:47<06:26,  1.21it/s]\u001b[A\u001b[A\n",
      "\n",
      "  9%|▊         | 44/512 [00:48<06:07,  1.27it/s]\u001b[A\u001b[A\n",
      "\n",
      "  9%|▉         | 45/512 [00:48<06:20,  1.23it/s]\u001b[A\u001b[A\n",
      "\n",
      "  9%|▉         | 46/512 [00:49<06:28,  1.20it/s]\u001b[A\u001b[A\n",
      "\n",
      "  9%|▉         | 47/512 [00:50<06:32,  1.18it/s]\u001b[A\u001b[A\n",
      "\n",
      "  9%|▉         | 48/512 [00:51<06:32,  1.18it/s]\u001b[A\u001b[A\n",
      "\n",
      " 10%|▉         | 49/512 [00:52<06:17,  1.23it/s]\u001b[A\u001b[A\n",
      "\n",
      " 10%|▉         | 50/512 [00:53<06:11,  1.24it/s]\u001b[A\u001b[A\n",
      "\n",
      " 10%|▉         | 51/512 [00:53<06:16,  1.23it/s]\u001b[A\u001b[A\n",
      "\n",
      " 10%|█         | 52/512 [00:54<06:16,  1.22it/s]\u001b[A\u001b[A\n",
      "\n",
      " 10%|█         | 53/512 [00:55<06:03,  1.26it/s]\u001b[A\u001b[A\n",
      "\n",
      " 11%|█         | 54/512 [00:56<05:55,  1.29it/s]\u001b[A\u001b[A\n",
      "\n",
      " 11%|█         | 55/512 [00:57<06:06,  1.25it/s]\u001b[A\u001b[A\n",
      "\n",
      " 11%|█         | 56/512 [00:58<06:23,  1.19it/s]\u001b[A\u001b[A\n",
      "\n",
      " 11%|█         | 57/512 [00:58<06:23,  1.19it/s]\u001b[A\u001b[A\n",
      "\n",
      " 11%|█▏        | 58/512 [00:59<06:11,  1.22it/s]\u001b[A\u001b[A\n",
      "\n",
      " 12%|█▏        | 59/512 [01:00<06:16,  1.20it/s]\u001b[A\u001b[A\n",
      "\n",
      " 12%|█▏        | 60/512 [01:01<06:36,  1.14it/s]\u001b[A\u001b[A\n",
      "\n",
      " 12%|█▏        | 61/512 [01:02<06:43,  1.12it/s]\u001b[A\u001b[A\n",
      "\n",
      " 12%|█▏        | 62/512 [01:03<06:47,  1.11it/s]\u001b[A\u001b[A\n",
      "\n",
      " 12%|█▏        | 63/512 [01:04<06:52,  1.09it/s]\u001b[A\u001b[A\n",
      "\n",
      " 12%|█▎        | 64/512 [01:05<07:53,  1.06s/it]\u001b[A\u001b[A\n",
      "\n",
      " 13%|█▎        | 65/512 [01:06<08:03,  1.08s/it]\u001b[A\u001b[A\n",
      "\n",
      " 13%|█▎        | 66/512 [01:07<07:28,  1.01s/it]\u001b[A\u001b[A\n",
      "\n",
      " 13%|█▎        | 67/512 [01:08<07:21,  1.01it/s]\u001b[A\u001b[A\n",
      "\n",
      " 13%|█▎        | 68/512 [01:09<06:56,  1.07it/s]\u001b[A\u001b[A\n",
      "\n",
      " 13%|█▎        | 69/512 [01:10<07:01,  1.05it/s]\u001b[A\u001b[A\n",
      "\n",
      " 14%|█▎        | 70/512 [01:11<07:26,  1.01s/it]\u001b[A\u001b[A\n",
      "\n",
      " 14%|█▍        | 71/512 [01:12<06:48,  1.08it/s]\u001b[A\u001b[A\n",
      "\n",
      " 14%|█▍        | 72/512 [01:14<08:32,  1.17s/it]\u001b[A\u001b[A\n",
      "\n",
      " 14%|█▍        | 73/512 [01:16<10:41,  1.46s/it]\u001b[A\u001b[A\n",
      "\n",
      " 14%|█▍        | 74/512 [01:17<10:54,  1.49s/it]\u001b[A\u001b[A\n",
      "\n",
      " 15%|█▍        | 75/512 [01:19<11:17,  1.55s/it]\u001b[A\u001b[A\n",
      "\n",
      " 15%|█▍        | 76/512 [01:20<11:19,  1.56s/it]\u001b[A\u001b[A\n",
      "\n",
      " 15%|█▌        | 77/512 [01:22<11:01,  1.52s/it]\u001b[A\u001b[A\n",
      "\n",
      " 15%|█▌        | 78/512 [01:23<11:06,  1.54s/it]\u001b[A\u001b[A\n",
      "\n",
      " 15%|█▌        | 79/512 [01:25<10:07,  1.40s/it]\u001b[A\u001b[A\n",
      "\n",
      " 16%|█▌        | 80/512 [01:27<11:16,  1.57s/it]\u001b[A\u001b[A\n",
      "\n",
      " 16%|█▌        | 81/512 [01:29<12:31,  1.74s/it]\u001b[A\u001b[A\n",
      "\n",
      " 16%|█▌        | 82/512 [01:31<14:40,  2.05s/it]\u001b[A\u001b[A\n",
      "\n",
      " 16%|█▌        | 83/512 [01:34<15:52,  2.22s/it]\u001b[A\u001b[A\n",
      "\n",
      " 16%|█▋        | 84/512 [01:36<16:05,  2.26s/it]\u001b[A\u001b[A\n",
      "\n",
      " 17%|█▋        | 85/512 [01:37<13:19,  1.87s/it]\u001b[A\u001b[A\n",
      "\n",
      " 17%|█▋        | 86/512 [01:39<12:25,  1.75s/it]\u001b[A\u001b[A\n",
      "\n",
      " 17%|█▋        | 87/512 [01:40<10:16,  1.45s/it]\u001b[A\u001b[A\n",
      "\n",
      " 17%|█▋        | 88/512 [01:41<09:17,  1.31s/it]\u001b[A\u001b[A\n",
      "\n",
      " 17%|█▋        | 89/512 [01:42<08:31,  1.21s/it]\u001b[A\u001b[A\n",
      "\n",
      " 18%|█▊        | 90/512 [01:43<08:31,  1.21s/it]\u001b[A\u001b[A\n",
      "\n",
      " 18%|█▊        | 91/512 [01:44<08:41,  1.24s/it]\u001b[A\u001b[A\n",
      "\n",
      " 18%|█▊        | 92/512 [01:45<08:50,  1.26s/it]\u001b[A\u001b[A\n",
      "\n",
      " 18%|█▊        | 93/512 [01:47<08:45,  1.25s/it]\u001b[A\u001b[A\n",
      "\n",
      " 18%|█▊        | 94/512 [01:49<10:00,  1.44s/it]\u001b[A\u001b[A\n",
      "\n",
      " 19%|█▊        | 95/512 [01:50<09:05,  1.31s/it]\u001b[A\u001b[A\n",
      "\n",
      " 19%|█▉        | 96/512 [01:51<08:26,  1.22s/it]\u001b[A\u001b[A\n",
      "\n",
      " 19%|█▉        | 97/512 [01:53<10:08,  1.47s/it]\u001b[A\u001b[A\n",
      "\n",
      " 19%|█▉        | 98/512 [01:54<10:22,  1.50s/it]\u001b[A\u001b[A\n",
      "\n",
      " 19%|█▉        | 99/512 [01:55<09:11,  1.33s/it]\u001b[A\u001b[A\n",
      "\n",
      " 20%|█▉        | 100/512 [01:56<08:11,  1.19s/it]\u001b[A\u001b[A\n",
      "\n",
      " 20%|█▉        | 101/512 [01:57<07:22,  1.08s/it]\u001b[A\u001b[A\n",
      "\n",
      " 20%|█▉        | 102/512 [01:58<07:03,  1.03s/it]\u001b[A\u001b[A\n",
      "\n",
      " 20%|██        | 103/512 [01:58<06:29,  1.05it/s]\u001b[A\u001b[A\n",
      "\n",
      " 20%|██        | 104/512 [02:00<07:00,  1.03s/it]\u001b[A\u001b[A\n",
      "\n",
      " 21%|██        | 105/512 [02:01<06:49,  1.01s/it]\u001b[A\u001b[A\n",
      "\n",
      " 21%|██        | 106/512 [02:02<06:40,  1.01it/s]\u001b[A\u001b[A\n",
      "\n",
      " 21%|██        | 107/512 [02:02<06:18,  1.07it/s]\u001b[A\u001b[A\n",
      "\n",
      " 21%|██        | 108/512 [02:03<06:29,  1.04it/s]\u001b[A\u001b[A\n",
      "\n",
      " 21%|██▏       | 109/512 [02:04<06:31,  1.03it/s]\u001b[A\u001b[A\n",
      "\n",
      " 21%|██▏       | 110/512 [02:05<06:13,  1.08it/s]\u001b[A\u001b[A\n",
      "\n",
      " 22%|██▏       | 111/512 [02:07<06:58,  1.04s/it]\u001b[A\u001b[A\n",
      "\n",
      " 22%|██▏       | 112/512 [02:08<06:54,  1.04s/it]\u001b[A\u001b[A\n",
      "\n",
      " 22%|██▏       | 113/512 [02:09<06:50,  1.03s/it]\u001b[A\u001b[A\n",
      "\n",
      " 22%|██▏       | 114/512 [02:10<07:09,  1.08s/it]\u001b[A\u001b[A\n",
      "\n",
      " 22%|██▏       | 115/512 [02:11<07:07,  1.08s/it]\u001b[A\u001b[A\n",
      "\n",
      " 23%|██▎       | 116/512 [02:12<06:46,  1.03s/it]\u001b[A\u001b[A\n",
      "\n",
      " 23%|██▎       | 117/512 [02:13<06:40,  1.01s/it]\u001b[A\u001b[A\n",
      "\n",
      " 23%|██▎       | 118/512 [02:14<06:41,  1.02s/it]\u001b[A\u001b[A\n",
      "\n",
      " 23%|██▎       | 119/512 [02:15<06:29,  1.01it/s]\u001b[A\u001b[A\n",
      "\n",
      " 23%|██▎       | 120/512 [02:16<06:30,  1.00it/s]\u001b[A\u001b[A\n",
      "\n",
      " 24%|██▎       | 121/512 [02:17<06:29,  1.00it/s]\u001b[A\u001b[A\n",
      "\n",
      " 24%|██▍       | 122/512 [02:18<08:00,  1.23s/it]\u001b[A\u001b[A\n",
      "\n",
      " 24%|██▍       | 123/512 [02:19<07:21,  1.14s/it]\u001b[A\u001b[A\n",
      "\n",
      " 24%|██▍       | 124/512 [02:20<06:48,  1.05s/it]\u001b[A\u001b[A\n",
      "\n",
      " 24%|██▍       | 125/512 [02:21<06:23,  1.01it/s]\u001b[A\u001b[A\n",
      "\n",
      " 25%|██▍       | 126/512 [02:22<06:36,  1.03s/it]\u001b[A\u001b[A\n",
      "\n",
      " 25%|██▍       | 127/512 [02:23<06:16,  1.02it/s]\u001b[A\u001b[A\n",
      "\n",
      " 25%|██▌       | 128/512 [02:24<06:50,  1.07s/it]\u001b[A\u001b[A\n",
      "\n",
      " 25%|██▌       | 129/512 [02:25<06:47,  1.06s/it]\u001b[A\u001b[A\n",
      "\n",
      " 25%|██▌       | 130/512 [02:27<06:57,  1.09s/it]\u001b[A\u001b[A\n",
      "\n",
      " 26%|██▌       | 131/512 [02:28<07:11,  1.13s/it]\u001b[A\u001b[A\n",
      "\n",
      " 26%|██▌       | 132/512 [02:29<07:02,  1.11s/it]\u001b[A\u001b[A\n",
      "\n",
      " 26%|██▌       | 133/512 [02:30<07:00,  1.11s/it]\u001b[A\u001b[A\n",
      "\n",
      " 26%|██▌       | 134/512 [02:31<06:28,  1.03s/it]\u001b[A\u001b[A\n",
      "\n",
      " 26%|██▋       | 135/512 [02:32<06:49,  1.09s/it]\u001b[A\u001b[A\n",
      "\n",
      " 27%|██▋       | 136/512 [02:33<07:05,  1.13s/it]\u001b[A\u001b[A\n",
      "\n",
      " 27%|██▋       | 137/512 [02:34<06:50,  1.09s/it]\u001b[A\u001b[A\n",
      "\n",
      " 27%|██▋       | 138/512 [02:35<06:49,  1.09s/it]\u001b[A\u001b[A\n",
      "\n",
      " 27%|██▋       | 139/512 [02:36<06:14,  1.00s/it]\u001b[A\u001b[A\n",
      "\n",
      " 27%|██▋       | 140/512 [02:37<06:21,  1.03s/it]\u001b[A\u001b[A\n",
      "\n",
      " 28%|██▊       | 141/512 [02:39<07:01,  1.14s/it]\u001b[A\u001b[A\n",
      "\n",
      " 28%|██▊       | 142/512 [02:40<08:17,  1.35s/it]\u001b[A\u001b[A\n",
      "\n",
      " 28%|██▊       | 143/512 [02:42<07:54,  1.29s/it]\u001b[A\u001b[A\n",
      "\n",
      " 28%|██▊       | 144/512 [02:44<10:50,  1.77s/it]\u001b[A\u001b[A\n",
      "\n",
      " 28%|██▊       | 145/512 [02:49<15:07,  2.47s/it]\u001b[A\u001b[A\n",
      "\n",
      " 29%|██▊       | 146/512 [02:50<13:39,  2.24s/it]\u001b[A\u001b[A\n",
      "\n",
      " 29%|██▊       | 147/512 [02:52<11:49,  1.94s/it]\u001b[A\u001b[A\n",
      "\n",
      " 29%|██▉       | 148/512 [02:53<10:29,  1.73s/it]\u001b[A\u001b[A\n",
      "\n",
      " 29%|██▉       | 149/512 [02:54<08:57,  1.48s/it]\u001b[A\u001b[A\n",
      "\n",
      " 29%|██▉       | 150/512 [02:55<08:43,  1.45s/it]\u001b[A\u001b[A\n",
      "\n",
      " 29%|██▉       | 151/512 [02:57<09:04,  1.51s/it]\u001b[A\u001b[A\n",
      "\n",
      " 30%|██▉       | 152/512 [02:58<08:23,  1.40s/it]\u001b[A\u001b[A\n",
      "\n",
      " 30%|██▉       | 153/512 [02:59<07:37,  1.27s/it]\u001b[A\u001b[A\n",
      "\n",
      " 30%|███       | 154/512 [03:00<07:07,  1.19s/it]\u001b[A\u001b[A\n",
      "\n",
      " 30%|███       | 155/512 [03:01<06:37,  1.11s/it]\u001b[A\u001b[A\n",
      "\n",
      " 30%|███       | 156/512 [03:02<06:29,  1.09s/it]\u001b[A\u001b[A\n",
      "\n",
      " 31%|███       | 157/512 [03:03<06:20,  1.07s/it]\u001b[A\u001b[A\n",
      "\n",
      " 31%|███       | 158/512 [03:04<06:00,  1.02s/it]\u001b[A\u001b[A\n",
      "\n",
      " 31%|███       | 159/512 [03:05<06:01,  1.02s/it]\u001b[A\u001b[A\n",
      "\n",
      " 31%|███▏      | 160/512 [03:06<05:42,  1.03it/s]\u001b[A\u001b[A\n",
      "\n",
      " 31%|███▏      | 161/512 [03:06<05:23,  1.08it/s]\u001b[A\u001b[A\n",
      "\n",
      " 32%|███▏      | 162/512 [03:07<05:29,  1.06it/s]\u001b[A\u001b[A\n",
      "\n",
      " 32%|███▏      | 163/512 [03:09<05:46,  1.01it/s]\u001b[A\u001b[A\n",
      "\n",
      " 32%|███▏      | 164/512 [03:10<05:43,  1.01it/s]\u001b[A\u001b[A\n",
      "\n",
      " 32%|███▏      | 165/512 [03:10<05:37,  1.03it/s]\u001b[A\u001b[A\n",
      "\n",
      " 32%|███▏      | 166/512 [03:12<06:33,  1.14s/it]\u001b[A\u001b[A\n",
      "\n",
      " 33%|███▎      | 167/512 [03:13<06:58,  1.21s/it]\u001b[A\u001b[A\n",
      "\n",
      " 33%|███▎      | 168/512 [03:15<07:06,  1.24s/it]\u001b[A\u001b[A\n",
      "\n",
      " 33%|███▎      | 169/512 [03:16<06:57,  1.22s/it]\u001b[A\u001b[A\n",
      "\n",
      " 33%|███▎      | 170/512 [03:17<07:30,  1.32s/it]\u001b[A\u001b[A\n",
      "\n",
      " 33%|███▎      | 171/512 [03:19<07:21,  1.29s/it]\u001b[A\u001b[A\n",
      "\n",
      " 34%|███▎      | 172/512 [03:21<09:25,  1.66s/it]\u001b[A\u001b[A\n",
      "\n",
      " 34%|███▍      | 173/512 [03:23<10:19,  1.83s/it]\u001b[A\u001b[A\n",
      "\n",
      " 34%|███▍      | 174/512 [03:25<09:14,  1.64s/it]\u001b[A\u001b[A\n",
      "\n",
      " 34%|███▍      | 175/512 [03:25<08:01,  1.43s/it]\u001b[A\u001b[A\n",
      "\n",
      " 34%|███▍      | 176/512 [03:27<07:25,  1.33s/it]\u001b[A\u001b[A\n",
      "\n",
      " 35%|███▍      | 177/512 [03:28<07:01,  1.26s/it]\u001b[A\u001b[A\n",
      "\n",
      " 35%|███▍      | 178/512 [03:28<06:10,  1.11s/it]\u001b[A\u001b[A\n",
      "\n",
      " 35%|███▍      | 179/512 [03:29<06:01,  1.09s/it]\u001b[A\u001b[A\n",
      "\n",
      " 35%|███▌      | 180/512 [03:30<05:45,  1.04s/it]\u001b[A\u001b[A\n",
      "\n",
      " 35%|███▌      | 181/512 [03:32<07:07,  1.29s/it]\u001b[A\u001b[A\n",
      "\n",
      " 36%|███▌      | 182/512 [03:34<07:57,  1.45s/it]\u001b[A\u001b[A\n",
      "\n",
      " 36%|███▌      | 183/512 [03:37<09:55,  1.81s/it]\u001b[A\u001b[A\n",
      "\n",
      " 36%|███▌      | 184/512 [03:38<08:47,  1.61s/it]\u001b[A\u001b[A\n",
      "\n",
      " 36%|███▌      | 185/512 [03:39<07:46,  1.43s/it]\u001b[A\u001b[A\n",
      "\n",
      " 36%|███▋      | 186/512 [03:40<06:51,  1.26s/it]\u001b[A\u001b[A\n",
      "\n",
      " 37%|███▋      | 187/512 [03:41<06:18,  1.17s/it]\u001b[A\u001b[A\n",
      "\n",
      " 37%|███▋      | 188/512 [03:42<05:48,  1.08s/it]\u001b[A\u001b[A\n",
      "\n",
      " 37%|███▋      | 189/512 [03:42<05:31,  1.03s/it]\u001b[A\u001b[A\n",
      "\n",
      " 37%|███▋      | 190/512 [03:43<05:11,  1.03it/s]\u001b[A\u001b[A\n",
      "\n",
      " 37%|███▋      | 191/512 [03:44<05:24,  1.01s/it]\u001b[A\u001b[A\n",
      "\n",
      " 38%|███▊      | 192/512 [03:45<05:13,  1.02it/s]\u001b[A\u001b[A\n",
      "\n",
      " 38%|███▊      | 193/512 [03:46<05:12,  1.02it/s]\u001b[A\u001b[A\n",
      "\n",
      " 38%|███▊      | 194/512 [03:47<05:02,  1.05it/s]\u001b[A\u001b[A\n",
      "\n",
      " 38%|███▊      | 195/512 [03:48<04:46,  1.11it/s]\u001b[A\u001b[A\n",
      "\n",
      " 38%|███▊      | 196/512 [03:49<04:44,  1.11it/s]\u001b[A\u001b[A\n",
      "\n",
      " 38%|███▊      | 197/512 [03:50<05:02,  1.04it/s]\u001b[A\u001b[A\n",
      "\n",
      " 39%|███▊      | 198/512 [03:51<05:14,  1.00s/it]\u001b[A\u001b[A\n",
      "\n",
      " 39%|███▉      | 199/512 [03:52<05:21,  1.03s/it]\u001b[A\u001b[A\n",
      "\n",
      " 39%|███▉      | 200/512 [03:53<05:17,  1.02s/it]\u001b[A\u001b[A\n",
      "\n",
      " 39%|███▉      | 201/512 [03:54<05:19,  1.03s/it]\u001b[A\u001b[A\n",
      "\n",
      " 39%|███▉      | 202/512 [03:55<05:06,  1.01it/s]\u001b[A\u001b[A\n",
      "\n",
      " 40%|███▉      | 203/512 [03:56<05:13,  1.01s/it]\u001b[A\u001b[A\n",
      "\n",
      " 40%|███▉      | 204/512 [03:57<05:11,  1.01s/it]\u001b[A\u001b[A\n",
      "\n",
      " 40%|████      | 205/512 [03:58<05:23,  1.05s/it]\u001b[A\u001b[A\n",
      "\n",
      " 40%|████      | 206/512 [04:01<07:58,  1.56s/it]\u001b[A\u001b[A\n",
      "\n",
      " 40%|████      | 207/512 [04:02<06:53,  1.36s/it]\u001b[A\u001b[A\n",
      "\n",
      " 41%|████      | 208/512 [04:03<06:42,  1.32s/it]\u001b[A\u001b[A\n",
      "\n",
      " 41%|████      | 209/512 [04:04<06:28,  1.28s/it]\u001b[A\u001b[A\n",
      "\n",
      " 41%|████      | 210/512 [04:06<06:14,  1.24s/it]\u001b[A\u001b[A\n",
      "\n",
      " 41%|████      | 211/512 [04:07<05:59,  1.19s/it]\u001b[A\u001b[A\n",
      "\n",
      " 41%|████▏     | 212/512 [04:08<05:35,  1.12s/it]\u001b[A\u001b[A\n",
      "\n",
      " 42%|████▏     | 213/512 [04:08<05:17,  1.06s/it]\u001b[A\u001b[A\n",
      "\n",
      " 42%|████▏     | 214/512 [04:09<04:58,  1.00s/it]\u001b[A\u001b[A\n",
      "\n",
      " 42%|████▏     | 215/512 [04:11<05:26,  1.10s/it]\u001b[A\u001b[A\n",
      "\n",
      " 42%|████▏     | 216/512 [04:13<06:47,  1.38s/it]\u001b[A\u001b[A\n",
      "\n",
      " 42%|████▏     | 217/512 [04:14<06:37,  1.35s/it]\u001b[A\u001b[A\n",
      "\n",
      " 43%|████▎     | 218/512 [04:15<06:20,  1.29s/it]\u001b[A\u001b[A\n",
      "\n",
      " 43%|████▎     | 219/512 [04:17<07:39,  1.57s/it]\u001b[A\u001b[A\n",
      "\n",
      " 43%|████▎     | 220/512 [04:19<07:01,  1.45s/it]\u001b[A\u001b[A\n",
      "\n",
      " 43%|████▎     | 221/512 [04:19<05:57,  1.23s/it]\u001b[A\u001b[A\n",
      "\n",
      " 43%|████▎     | 222/512 [04:20<05:26,  1.12s/it]\u001b[A\u001b[A\n",
      "\n",
      " 44%|████▎     | 223/512 [04:21<05:32,  1.15s/it]\u001b[A\u001b[A\n",
      "\n",
      " 44%|████▍     | 224/512 [04:22<05:06,  1.07s/it]\u001b[A\u001b[A\n",
      "\n",
      " 44%|████▍     | 225/512 [04:23<04:53,  1.02s/it]\u001b[A\u001b[A\n",
      "\n",
      " 44%|████▍     | 226/512 [04:24<04:47,  1.01s/it]\u001b[A\u001b[A\n",
      "\n",
      " 44%|████▍     | 227/512 [04:25<04:39,  1.02it/s]\u001b[A\u001b[A\n",
      "\n",
      " 45%|████▍     | 228/512 [04:26<04:43,  1.00it/s]\u001b[A\u001b[A\n",
      "\n",
      " 45%|████▍     | 229/512 [04:27<04:38,  1.02it/s]\u001b[A\u001b[A\n",
      "\n",
      " 45%|████▍     | 230/512 [04:28<04:39,  1.01it/s]\u001b[A\u001b[A\n",
      "\n",
      " 45%|████▌     | 231/512 [04:29<04:38,  1.01it/s]\u001b[A\u001b[A\n",
      "\n",
      " 45%|████▌     | 232/512 [04:30<04:21,  1.07it/s]\u001b[A\u001b[A\n",
      "\n",
      " 46%|████▌     | 233/512 [04:31<04:22,  1.06it/s]\u001b[A\u001b[A\n",
      "\n",
      " 46%|████▌     | 234/512 [04:32<04:18,  1.08it/s]\u001b[A\u001b[A\n",
      "\n",
      " 46%|████▌     | 235/512 [04:33<04:36,  1.00it/s]\u001b[A\u001b[A\n",
      "\n",
      " 46%|████▌     | 236/512 [04:34<04:17,  1.07it/s]\u001b[A\u001b[A\n",
      "\n",
      " 46%|████▋     | 237/512 [04:35<04:16,  1.07it/s]\u001b[A\u001b[A\n",
      "\n",
      " 46%|████▋     | 238/512 [04:35<03:57,  1.15it/s]\u001b[A\u001b[A\n",
      "\n",
      " 47%|████▋     | 239/512 [04:36<03:56,  1.16it/s]\u001b[A\u001b[A\n",
      "\n",
      " 47%|████▋     | 240/512 [04:37<03:53,  1.17it/s]\u001b[A\u001b[A\n",
      "\n",
      " 47%|████▋     | 241/512 [04:38<04:06,  1.10it/s]\u001b[A\u001b[A\n",
      "\n",
      " 47%|████▋     | 242/512 [04:39<04:30,  1.00s/it]\u001b[A\u001b[A\n",
      "\n",
      " 47%|████▋     | 243/512 [04:40<04:19,  1.03it/s]\u001b[A\u001b[A\n",
      "\n",
      " 48%|████▊     | 244/512 [04:41<04:27,  1.00it/s]\u001b[A\u001b[A\n",
      "\n",
      " 48%|████▊     | 245/512 [04:42<04:10,  1.07it/s]\u001b[A\u001b[A\n",
      "\n",
      " 48%|████▊     | 246/512 [04:43<04:01,  1.10it/s]\u001b[A\u001b[A\n",
      "\n",
      " 48%|████▊     | 247/512 [04:44<03:51,  1.14it/s]\u001b[A\u001b[A\n",
      "\n",
      " 48%|████▊     | 248/512 [04:44<03:49,  1.15it/s]\u001b[A\u001b[A\n",
      "\n",
      " 49%|████▊     | 249/512 [04:45<03:48,  1.15it/s]\u001b[A\u001b[A\n",
      "\n",
      " 49%|████▉     | 250/512 [04:46<03:41,  1.18it/s]\u001b[A\u001b[A\n",
      "\n",
      " 49%|████▉     | 251/512 [04:47<03:37,  1.20it/s]\u001b[A\u001b[A\n",
      "\n",
      " 49%|████▉     | 252/512 [04:48<03:31,  1.23it/s]\u001b[A\u001b[A\n",
      "\n",
      " 49%|████▉     | 253/512 [04:48<03:26,  1.26it/s]\u001b[A\u001b[A\n",
      "\n",
      " 50%|████▉     | 254/512 [04:49<03:41,  1.17it/s]\u001b[A\u001b[A\n",
      "\n",
      " 50%|████▉     | 255/512 [04:50<03:46,  1.13it/s]\u001b[A\u001b[A\n",
      "\n",
      " 50%|█████     | 256/512 [04:51<03:33,  1.20it/s]\u001b[A\u001b[A\n",
      "\n",
      " 50%|█████     | 257/512 [04:52<03:41,  1.15it/s]\u001b[A\u001b[A\n",
      "\n",
      " 50%|█████     | 258/512 [04:53<03:42,  1.14it/s]\u001b[A\u001b[A\n",
      "\n",
      " 51%|█████     | 259/512 [04:54<03:47,  1.11it/s]\u001b[A\u001b[A\n",
      "\n",
      " 51%|█████     | 260/512 [04:55<03:47,  1.11it/s]\u001b[A\u001b[A\n",
      "\n",
      " 51%|█████     | 261/512 [04:56<04:04,  1.03it/s]\u001b[A\u001b[A\n",
      "\n",
      " 51%|█████     | 262/512 [04:57<04:07,  1.01it/s]\u001b[A\u001b[A\n",
      "\n",
      " 51%|█████▏    | 263/512 [04:58<04:31,  1.09s/it]\u001b[A\u001b[A\n",
      "\n",
      " 52%|█████▏    | 264/512 [04:59<04:31,  1.09s/it]\u001b[A\u001b[A\n",
      "\n",
      " 52%|█████▏    | 265/512 [05:00<04:18,  1.05s/it]\u001b[A\u001b[A\n",
      "\n",
      " 52%|█████▏    | 266/512 [05:01<04:21,  1.06s/it]\u001b[A\u001b[A\n",
      "\n",
      " 52%|█████▏    | 267/512 [05:02<04:06,  1.01s/it]\u001b[A\u001b[A\n",
      "\n",
      " 52%|█████▏    | 268/512 [05:03<03:44,  1.09it/s]\u001b[A\u001b[A\n",
      "\n",
      " 53%|█████▎    | 269/512 [05:04<03:27,  1.17it/s]\u001b[A\u001b[A\n",
      "\n",
      " 53%|█████▎    | 270/512 [05:05<03:49,  1.06it/s]\u001b[A\u001b[A\n",
      "\n",
      " 53%|█████▎    | 271/512 [05:06<03:58,  1.01it/s]\u001b[A\u001b[A\n",
      "\n",
      " 53%|█████▎    | 272/512 [05:07<03:58,  1.01it/s]\u001b[A\u001b[A\n",
      "\n",
      " 53%|█████▎    | 273/512 [05:08<04:05,  1.03s/it]\u001b[A\u001b[A\n",
      "\n",
      " 54%|█████▎    | 274/512 [05:09<03:46,  1.05it/s]\u001b[A\u001b[A\n",
      "\n",
      " 54%|█████▎    | 275/512 [05:10<03:38,  1.09it/s]\u001b[A\u001b[A\n",
      "\n",
      " 54%|█████▍    | 276/512 [05:11<03:36,  1.09it/s]\u001b[A\u001b[A\n",
      "\n",
      " 54%|█████▍    | 277/512 [05:12<03:34,  1.10it/s]\u001b[A\u001b[A\n",
      "\n",
      " 54%|█████▍    | 278/512 [05:12<03:27,  1.13it/s]\u001b[A\u001b[A\n",
      "\n",
      " 54%|█████▍    | 279/512 [05:13<03:28,  1.12it/s]\u001b[A\u001b[A\n",
      "\n",
      " 55%|█████▍    | 280/512 [05:14<03:18,  1.17it/s]\u001b[A\u001b[A\n",
      "\n",
      " 55%|█████▍    | 281/512 [05:15<03:15,  1.18it/s]\u001b[A\u001b[A\n",
      "\n",
      " 55%|█████▌    | 282/512 [05:16<03:21,  1.14it/s]\u001b[A\u001b[A\n",
      "\n",
      " 55%|█████▌    | 283/512 [05:17<03:22,  1.13it/s]\u001b[A\u001b[A\n",
      "\n",
      " 55%|█████▌    | 284/512 [05:17<03:14,  1.17it/s]\u001b[A\u001b[A\n",
      "\n",
      " 56%|█████▌    | 285/512 [05:19<03:33,  1.06it/s]\u001b[A\u001b[A\n",
      "\n",
      " 56%|█████▌    | 286/512 [05:19<03:26,  1.10it/s]\u001b[A\u001b[A\n",
      "\n",
      " 56%|█████▌    | 287/512 [05:20<03:30,  1.07it/s]\u001b[A\u001b[A\n",
      "\n"
     ]
    },
    {
     "name": "stderr",
     "output_type": "stream",
     "text": [
      " 56%|█████▋    | 288/512 [05:21<03:33,  1.05it/s]\u001b[A\u001b[A\n",
      "\n",
      " 56%|█████▋    | 289/512 [05:22<03:25,  1.08it/s]\u001b[A\u001b[A\n",
      "\n",
      " 57%|█████▋    | 290/512 [05:23<03:18,  1.12it/s]\u001b[A\u001b[A\n",
      "\n",
      " 57%|█████▋    | 291/512 [05:25<03:50,  1.04s/it]\u001b[A\u001b[A\n",
      "\n",
      " 57%|█████▋    | 292/512 [05:26<03:44,  1.02s/it]\u001b[A\u001b[A\n",
      "\n",
      " 57%|█████▋    | 293/512 [05:26<03:32,  1.03it/s]\u001b[A\u001b[A\n",
      "\n",
      " 57%|█████▋    | 294/512 [05:28<03:46,  1.04s/it]\u001b[A\u001b[A\n",
      "\n",
      " 58%|█████▊    | 295/512 [05:28<03:29,  1.04it/s]\u001b[A\u001b[A\n",
      "\n",
      " 58%|█████▊    | 296/512 [05:29<03:21,  1.07it/s]\u001b[A\u001b[A\n",
      "\n",
      " 58%|█████▊    | 297/512 [05:30<03:33,  1.01it/s]\u001b[A\u001b[A\n",
      "\n",
      " 58%|█████▊    | 298/512 [05:31<03:37,  1.02s/it]\u001b[A\u001b[A\n",
      "\n",
      " 58%|█████▊    | 299/512 [05:32<03:40,  1.04s/it]\u001b[A\u001b[A\n",
      "\n",
      " 59%|█████▊    | 300/512 [05:33<03:36,  1.02s/it]\u001b[A\u001b[A\n",
      "\n",
      " 59%|█████▉    | 301/512 [05:34<03:33,  1.01s/it]\u001b[A\u001b[A\n",
      "\n",
      " 59%|█████▉    | 302/512 [05:35<03:18,  1.06it/s]\u001b[A\u001b[A\n",
      "\n",
      " 59%|█████▉    | 303/512 [05:36<03:10,  1.10it/s]\u001b[A\u001b[A\n",
      "\n",
      " 59%|█████▉    | 304/512 [05:37<03:19,  1.04it/s]\u001b[A\u001b[A\n",
      "\n",
      " 60%|█████▉    | 305/512 [05:38<03:34,  1.03s/it]\u001b[A\u001b[A\n",
      "\n",
      " 60%|█████▉    | 306/512 [05:39<03:27,  1.01s/it]\u001b[A\u001b[A\n",
      "\n",
      " 60%|█████▉    | 307/512 [05:40<03:36,  1.06s/it]\u001b[A\u001b[A\n",
      "\n",
      " 60%|██████    | 308/512 [05:41<03:29,  1.03s/it]\u001b[A\u001b[A\n",
      "\n",
      " 60%|██████    | 309/512 [05:42<03:22,  1.00it/s]\u001b[A\u001b[A\n",
      "\n",
      " 61%|██████    | 310/512 [05:43<03:25,  1.01s/it]\u001b[A\u001b[A\n",
      "\n",
      " 61%|██████    | 311/512 [05:44<03:12,  1.05it/s]\u001b[A\u001b[A\n",
      "\n",
      " 61%|██████    | 312/512 [05:45<03:03,  1.09it/s]\u001b[A\u001b[A\n",
      "\n",
      " 61%|██████    | 313/512 [05:46<03:03,  1.08it/s]\u001b[A\u001b[A\n",
      "\n",
      " 61%|██████▏   | 314/512 [05:47<03:08,  1.05it/s]\u001b[A\u001b[A\n",
      "\n",
      " 62%|██████▏   | 315/512 [05:48<03:03,  1.08it/s]\u001b[A\u001b[A\n",
      "\n",
      " 62%|██████▏   | 316/512 [05:49<03:04,  1.06it/s]\u001b[A\u001b[A\n",
      "\n",
      " 62%|██████▏   | 317/512 [05:50<02:58,  1.09it/s]\u001b[A\u001b[A\n",
      "\n",
      " 62%|██████▏   | 318/512 [05:50<02:47,  1.16it/s]\u001b[A\u001b[A\n",
      "\n",
      " 62%|██████▏   | 319/512 [05:51<02:47,  1.15it/s]\u001b[A\u001b[A\n",
      "\n",
      " 62%|██████▎   | 320/512 [05:52<02:46,  1.15it/s]\u001b[A\u001b[A\n",
      "\n",
      " 63%|██████▎   | 321/512 [05:53<02:45,  1.15it/s]\u001b[A\u001b[A\n",
      "\n",
      " 63%|██████▎   | 322/512 [05:54<02:44,  1.15it/s]\u001b[A\u001b[A\n",
      "\n",
      " 63%|██████▎   | 323/512 [05:55<02:42,  1.16it/s]\u001b[A\u001b[A\n",
      "\n",
      " 63%|██████▎   | 324/512 [05:56<02:38,  1.19it/s]\u001b[A\u001b[A\n",
      "\n",
      " 63%|██████▎   | 325/512 [05:56<02:39,  1.18it/s]\u001b[A\u001b[A\n",
      "\n",
      " 64%|██████▎   | 326/512 [05:57<02:32,  1.22it/s]\u001b[A\u001b[A\n",
      "\n",
      " 64%|██████▍   | 327/512 [05:58<02:35,  1.19it/s]\u001b[A\u001b[A\n",
      "\n",
      " 64%|██████▍   | 328/512 [05:59<02:40,  1.15it/s]\u001b[A\u001b[A\n",
      "\n",
      " 64%|██████▍   | 329/512 [06:00<02:41,  1.14it/s]\u001b[A\u001b[A\n",
      "\n",
      " 64%|██████▍   | 330/512 [06:01<02:34,  1.18it/s]\u001b[A\u001b[A\n",
      "\n",
      " 65%|██████▍   | 331/512 [06:01<02:29,  1.21it/s]\u001b[A\u001b[A\n",
      "\n",
      " 65%|██████▍   | 332/512 [06:02<02:30,  1.20it/s]\u001b[A\u001b[A\n",
      "\n",
      " 65%|██████▌   | 333/512 [06:03<02:30,  1.19it/s]\u001b[A\u001b[A\n",
      "\n",
      " 65%|██████▌   | 334/512 [06:04<02:25,  1.23it/s]\u001b[A\u001b[A\n",
      "\n",
      " 65%|██████▌   | 335/512 [06:05<02:23,  1.23it/s]\u001b[A\u001b[A\n",
      "\n",
      " 66%|██████▌   | 336/512 [06:06<02:28,  1.19it/s]\u001b[A\u001b[A\n",
      "\n",
      " 66%|██████▌   | 337/512 [06:07<02:34,  1.14it/s]\u001b[A\u001b[A\n",
      "\n",
      " 66%|██████▌   | 338/512 [06:08<02:45,  1.05it/s]\u001b[A\u001b[A\n",
      "\n",
      " 66%|██████▌   | 339/512 [06:09<02:44,  1.05it/s]\u001b[A\u001b[A\n",
      "\n",
      " 66%|██████▋   | 340/512 [06:10<02:39,  1.08it/s]\u001b[A\u001b[A\n",
      "\n",
      " 67%|██████▋   | 341/512 [06:11<02:46,  1.03it/s]\u001b[A\u001b[A\n",
      "\n",
      " 67%|██████▋   | 342/512 [06:12<02:45,  1.03it/s]\u001b[A\u001b[A\n",
      "\n",
      " 67%|██████▋   | 343/512 [06:12<02:34,  1.09it/s]\u001b[A\u001b[A\n",
      "\n",
      " 67%|██████▋   | 344/512 [06:13<02:29,  1.13it/s]\u001b[A\u001b[A\n",
      "\n",
      " 67%|██████▋   | 345/512 [06:14<02:32,  1.10it/s]\u001b[A\u001b[A\n",
      "\n",
      " 68%|██████▊   | 346/512 [06:15<02:46,  1.01s/it]\u001b[A\u001b[A\n",
      "\n",
      " 68%|██████▊   | 347/512 [06:17<03:08,  1.14s/it]\u001b[A\u001b[A\n",
      "\n",
      " 68%|██████▊   | 348/512 [06:18<02:59,  1.09s/it]\u001b[A\u001b[A\n",
      "\n",
      " 68%|██████▊   | 349/512 [06:19<03:01,  1.11s/it]\u001b[A\u001b[A\n",
      "\n",
      " 68%|██████▊   | 350/512 [06:20<02:45,  1.02s/it]\u001b[A\u001b[A\n",
      "\n",
      " 69%|██████▊   | 351/512 [06:22<03:30,  1.31s/it]\u001b[A\u001b[A\n",
      "\n",
      " 69%|██████▉   | 352/512 [06:24<04:10,  1.56s/it]\u001b[A\u001b[A\n",
      "\n",
      " 69%|██████▉   | 353/512 [06:26<04:09,  1.57s/it]\u001b[A\u001b[A\n",
      "\n",
      " 69%|██████▉   | 354/512 [06:28<05:02,  1.91s/it]\u001b[A\u001b[A\n",
      "\n",
      " 69%|██████▉   | 355/512 [06:30<04:38,  1.77s/it]\u001b[A\u001b[A\n",
      "\n",
      " 70%|██████▉   | 356/512 [06:31<04:02,  1.56s/it]\u001b[A\u001b[A\n",
      "\n",
      " 70%|██████▉   | 357/512 [06:32<03:46,  1.46s/it]\u001b[A\u001b[A\n",
      "\n",
      " 70%|██████▉   | 358/512 [06:33<03:16,  1.28s/it]\u001b[A\u001b[A\n",
      "\n",
      " 70%|███████   | 359/512 [06:34<03:02,  1.19s/it]\u001b[A\u001b[A\n",
      "\n",
      " 70%|███████   | 360/512 [06:35<02:52,  1.14s/it]\u001b[A\u001b[A\n",
      "\n",
      " 71%|███████   | 361/512 [06:36<02:49,  1.12s/it]\u001b[A\u001b[A\n",
      "\n",
      " 71%|███████   | 362/512 [06:37<02:42,  1.08s/it]\u001b[A\u001b[A\n",
      "\n",
      " 71%|███████   | 363/512 [06:38<02:45,  1.11s/it]\u001b[A\u001b[A\n",
      "\n",
      " 71%|███████   | 364/512 [06:39<02:41,  1.09s/it]\u001b[A\u001b[A\n",
      "\n",
      " 71%|███████▏  | 365/512 [06:40<02:36,  1.06s/it]\u001b[A\u001b[A\n",
      "\n",
      " 71%|███████▏  | 366/512 [06:41<02:39,  1.09s/it]\u001b[A\u001b[A\n",
      "\n",
      " 72%|███████▏  | 367/512 [06:42<02:34,  1.07s/it]\u001b[A\u001b[A\n",
      "\n",
      " 72%|███████▏  | 368/512 [06:44<02:45,  1.15s/it]\u001b[A\u001b[A\n",
      "\n",
      " 72%|███████▏  | 369/512 [06:44<02:25,  1.02s/it]\u001b[A\u001b[A\n",
      "\n",
      " 72%|███████▏  | 370/512 [06:45<02:19,  1.02it/s]\u001b[A\u001b[A\n",
      "\n",
      " 72%|███████▏  | 371/512 [06:46<02:10,  1.08it/s]\u001b[A\u001b[A\n",
      "\n",
      " 73%|███████▎  | 372/512 [06:47<02:00,  1.17it/s]\u001b[A\u001b[A\n",
      "\n",
      " 73%|███████▎  | 373/512 [06:47<01:52,  1.23it/s]\u001b[A\u001b[A\n",
      "\n",
      " 73%|███████▎  | 374/512 [06:48<01:51,  1.24it/s]\u001b[A\u001b[A\n",
      "\n",
      " 73%|███████▎  | 375/512 [06:49<01:51,  1.23it/s]\u001b[A\u001b[A\n",
      "\n",
      " 73%|███████▎  | 376/512 [06:50<01:48,  1.25it/s]\u001b[A\u001b[A\n",
      "\n",
      " 74%|███████▎  | 377/512 [06:51<01:48,  1.24it/s]\u001b[A\u001b[A\n",
      "\n",
      " 74%|███████▍  | 378/512 [06:52<01:52,  1.19it/s]\u001b[A\u001b[A\n",
      "\n",
      " 74%|███████▍  | 379/512 [06:53<02:10,  1.02it/s]\u001b[A\u001b[A\n",
      "\n",
      " 74%|███████▍  | 380/512 [06:54<01:58,  1.11it/s]\u001b[A\u001b[A\n",
      "\n",
      " 74%|███████▍  | 381/512 [06:54<01:50,  1.18it/s]\u001b[A\u001b[A\n",
      "\n",
      " 75%|███████▍  | 382/512 [06:55<01:52,  1.15it/s]\u001b[A\u001b[A\n",
      "\n",
      " 75%|███████▍  | 383/512 [06:56<01:53,  1.14it/s]\u001b[A\u001b[A\n",
      "\n",
      " 75%|███████▌  | 384/512 [06:57<01:57,  1.09it/s]\u001b[A\u001b[A\n",
      "\n",
      " 75%|███████▌  | 385/512 [06:59<02:26,  1.15s/it]\u001b[A\u001b[A\n",
      "\n",
      " 75%|███████▌  | 386/512 [07:00<02:10,  1.03s/it]\u001b[A\u001b[A\n",
      "\n",
      " 76%|███████▌  | 387/512 [07:00<01:55,  1.08it/s]\u001b[A\u001b[A\n",
      "\n",
      " 76%|███████▌  | 388/512 [07:01<01:48,  1.14it/s]\u001b[A\u001b[A\n",
      "\n",
      " 76%|███████▌  | 389/512 [07:02<01:45,  1.16it/s]\u001b[A\u001b[A\n",
      "\n",
      " 76%|███████▌  | 390/512 [07:03<01:46,  1.14it/s]\u001b[A\u001b[A\n",
      "\n",
      " 76%|███████▋  | 391/512 [07:04<01:50,  1.10it/s]\u001b[A\u001b[A\n",
      "\n",
      " 77%|███████▋  | 392/512 [07:05<02:07,  1.06s/it]\u001b[A\u001b[A\n",
      "\n",
      " 77%|███████▋  | 393/512 [07:06<02:14,  1.13s/it]\u001b[A\u001b[A\n",
      "\n",
      " 77%|███████▋  | 394/512 [07:08<02:09,  1.10s/it]\u001b[A\u001b[A\n",
      "\n",
      " 77%|███████▋  | 395/512 [07:09<02:28,  1.27s/it]\u001b[A\u001b[A\n",
      "\n",
      " 77%|███████▋  | 396/512 [07:11<02:38,  1.37s/it]\u001b[A\u001b[A\n",
      "\n",
      " 78%|███████▊  | 397/512 [07:13<03:22,  1.76s/it]\u001b[A\u001b[A\n",
      "\n",
      " 78%|███████▊  | 398/512 [07:14<02:54,  1.53s/it]\u001b[A\u001b[A\n",
      "\n",
      " 78%|███████▊  | 399/512 [07:16<02:38,  1.40s/it]\u001b[A\u001b[A\n",
      "\n",
      " 78%|███████▊  | 400/512 [07:16<02:21,  1.26s/it]\u001b[A\u001b[A\n",
      "\n",
      " 78%|███████▊  | 401/512 [07:17<02:10,  1.17s/it]\u001b[A\u001b[A\n",
      "\n",
      " 79%|███████▊  | 402/512 [07:18<01:59,  1.09s/it]\u001b[A\u001b[A\n",
      "\n",
      " 79%|███████▊  | 403/512 [07:19<01:54,  1.05s/it]\u001b[A\u001b[A\n",
      "\n",
      " 79%|███████▉  | 404/512 [07:20<01:54,  1.06s/it]\u001b[A\u001b[A\n",
      "\n",
      " 79%|███████▉  | 405/512 [07:22<01:55,  1.08s/it]\u001b[A\u001b[A\n",
      "\n",
      " 79%|███████▉  | 406/512 [07:23<01:53,  1.07s/it]\u001b[A\u001b[A\n",
      "\n",
      " 79%|███████▉  | 407/512 [07:24<02:08,  1.23s/it]\u001b[A\u001b[A\n",
      "\n",
      " 80%|███████▉  | 408/512 [07:25<02:08,  1.24s/it]\u001b[A\u001b[A\n",
      "\n",
      " 80%|███████▉  | 409/512 [07:26<02:02,  1.19s/it]\u001b[A\u001b[A\n",
      "\n",
      " 80%|████████  | 410/512 [07:28<02:18,  1.36s/it]\u001b[A\u001b[A\n",
      "\n",
      " 80%|████████  | 411/512 [07:30<02:42,  1.61s/it]\u001b[A\u001b[A\n",
      "\n",
      " 80%|████████  | 412/512 [07:32<02:49,  1.70s/it]\u001b[A\u001b[A\n",
      "\n",
      " 81%|████████  | 413/512 [07:34<02:39,  1.61s/it]\u001b[A\u001b[A\n",
      "\n",
      " 81%|████████  | 414/512 [07:35<02:23,  1.46s/it]\u001b[A\u001b[A\n",
      "\n",
      " 81%|████████  | 415/512 [07:36<02:11,  1.36s/it]\u001b[A\u001b[A\n",
      "\n",
      " 81%|████████▏ | 416/512 [07:37<01:59,  1.24s/it]\u001b[A\u001b[A\n",
      "\n",
      " 81%|████████▏ | 417/512 [07:38<01:45,  1.11s/it]\u001b[A\u001b[A\n",
      "\n",
      " 82%|████████▏ | 418/512 [07:39<01:37,  1.03s/it]\u001b[A\u001b[A\n",
      "\n",
      " 82%|████████▏ | 419/512 [07:39<01:30,  1.02it/s]\u001b[A\u001b[A\n",
      "\n",
      " 82%|████████▏ | 420/512 [07:40<01:23,  1.10it/s]\u001b[A\u001b[A\n",
      "\n",
      " 82%|████████▏ | 421/512 [07:41<01:20,  1.13it/s]\u001b[A\u001b[A\n",
      "\n",
      " 82%|████████▏ | 422/512 [07:42<01:27,  1.03it/s]\u001b[A\u001b[A\n",
      "\n",
      " 83%|████████▎ | 423/512 [07:43<01:23,  1.07it/s]\u001b[A\u001b[A\n",
      "\n",
      " 83%|████████▎ | 424/512 [07:44<01:14,  1.18it/s]\u001b[A\u001b[A\n",
      "\n",
      " 83%|████████▎ | 425/512 [07:44<01:11,  1.21it/s]\u001b[A\u001b[A\n",
      "\n",
      " 83%|████████▎ | 426/512 [07:45<01:13,  1.16it/s]\u001b[A\u001b[A\n",
      "\n",
      " 83%|████████▎ | 427/512 [07:46<01:09,  1.22it/s]\u001b[A\u001b[A\n",
      "\n",
      " 84%|████████▎ | 428/512 [07:47<01:09,  1.21it/s]\u001b[A\u001b[A\n",
      "\n",
      " 84%|████████▍ | 429/512 [07:48<01:07,  1.22it/s]\u001b[A\u001b[A\n",
      "\n",
      " 84%|████████▍ | 430/512 [07:49<01:07,  1.21it/s]\u001b[A\u001b[A\n",
      "\n",
      " 84%|████████▍ | 431/512 [07:50<01:13,  1.10it/s]\u001b[A\u001b[A\n",
      "\n",
      " 84%|████████▍ | 432/512 [07:51<01:10,  1.13it/s]\u001b[A\u001b[A\n",
      "\n",
      " 85%|████████▍ | 433/512 [07:52<01:12,  1.09it/s]\u001b[A\u001b[A\n",
      "\n",
      " 85%|████████▍ | 434/512 [07:52<01:08,  1.14it/s]\u001b[A\u001b[A\n",
      "\n",
      " 85%|████████▍ | 435/512 [07:53<01:08,  1.13it/s]\u001b[A\u001b[A\n",
      "\n",
      " 85%|████████▌ | 436/512 [07:54<01:15,  1.01it/s]\u001b[A\u001b[A\n",
      "\n",
      " 85%|████████▌ | 437/512 [07:56<01:24,  1.12s/it]\u001b[A\u001b[A\n",
      "\n",
      " 86%|████████▌ | 438/512 [07:57<01:20,  1.08s/it]\u001b[A\u001b[A\n",
      "\n",
      " 86%|████████▌ | 439/512 [07:58<01:11,  1.02it/s]\u001b[A\u001b[A\n",
      "\n",
      " 86%|████████▌ | 440/512 [08:00<01:41,  1.42s/it]\u001b[A\u001b[A\n",
      "\n",
      " 86%|████████▌ | 441/512 [08:01<01:31,  1.29s/it]\u001b[A\u001b[A\n",
      "\n",
      " 86%|████████▋ | 442/512 [08:02<01:23,  1.19s/it]\u001b[A\u001b[A\n",
      "\n",
      " 87%|████████▋ | 443/512 [08:03<01:20,  1.17s/it]\u001b[A\u001b[A\n",
      "\n",
      " 87%|████████▋ | 444/512 [08:04<01:17,  1.14s/it]\u001b[A\u001b[A\n",
      "\n",
      " 87%|████████▋ | 445/512 [08:05<01:16,  1.15s/it]\u001b[A\u001b[A\n",
      "\n",
      " 87%|████████▋ | 446/512 [08:07<01:16,  1.16s/it]\u001b[A\u001b[A\n",
      "\n",
      " 87%|████████▋ | 447/512 [08:07<01:08,  1.05s/it]\u001b[A\u001b[A\n",
      "\n",
      " 88%|████████▊ | 448/512 [08:08<01:07,  1.06s/it]\u001b[A\u001b[A\n",
      "\n",
      " 88%|████████▊ | 449/512 [08:09<01:03,  1.01s/it]\u001b[A\u001b[A\n",
      "\n",
      " 88%|████████▊ | 450/512 [08:11<01:09,  1.13s/it]\u001b[A\u001b[A\n",
      "\n",
      " 88%|████████▊ | 451/512 [08:12<01:12,  1.19s/it]\u001b[A\u001b[A\n",
      "\n",
      " 88%|████████▊ | 452/512 [08:13<01:05,  1.09s/it]\u001b[A\u001b[A\n",
      "\n",
      " 88%|████████▊ | 453/512 [08:14<01:01,  1.04s/it]\u001b[A\u001b[A\n",
      "\n",
      " 89%|████████▊ | 454/512 [08:15<01:01,  1.06s/it]\u001b[A\u001b[A\n",
      "\n",
      " 89%|████████▉ | 455/512 [08:16<01:00,  1.06s/it]\u001b[A\u001b[A\n",
      "\n",
      " 89%|████████▉ | 456/512 [08:17<00:55,  1.01it/s]\u001b[A\u001b[A\n",
      "\n",
      " 89%|████████▉ | 457/512 [08:18<00:51,  1.06it/s]\u001b[A\u001b[A\n",
      "\n",
      " 89%|████████▉ | 458/512 [08:19<00:51,  1.05it/s]\u001b[A\u001b[A\n",
      "\n",
      " 90%|████████▉ | 459/512 [08:19<00:48,  1.08it/s]\u001b[A\u001b[A\n",
      "\n",
      " 90%|████████▉ | 460/512 [08:20<00:44,  1.17it/s]\u001b[A\u001b[A\n",
      "\n",
      " 90%|█████████ | 461/512 [08:21<00:41,  1.22it/s]\u001b[A\u001b[A\n",
      "\n",
      " 90%|█████████ | 462/512 [08:22<00:41,  1.21it/s]\u001b[A\u001b[A\n",
      "\n",
      " 90%|█████████ | 463/512 [08:23<00:41,  1.18it/s]\u001b[A\u001b[A\n",
      "\n",
      " 91%|█████████ | 464/512 [08:24<00:45,  1.06it/s]\u001b[A\u001b[A\n",
      "\n",
      " 91%|█████████ | 465/512 [08:25<00:44,  1.05it/s]\u001b[A\u001b[A\n",
      "\n",
      " 91%|█████████ | 466/512 [08:26<00:45,  1.02it/s]\u001b[A\u001b[A\n",
      "\n",
      " 91%|█████████ | 467/512 [08:27<00:41,  1.08it/s]\u001b[A\u001b[A\n",
      "\n",
      " 91%|█████████▏| 468/512 [08:27<00:38,  1.13it/s]\u001b[A\u001b[A\n",
      "\n",
      " 92%|█████████▏| 469/512 [08:28<00:39,  1.09it/s]\u001b[A\u001b[A\n",
      "\n",
      " 92%|█████████▏| 470/512 [08:29<00:38,  1.09it/s]\u001b[A\u001b[A\n",
      "\n",
      " 92%|█████████▏| 471/512 [08:30<00:37,  1.08it/s]\u001b[A\u001b[A\n",
      "\n",
      " 92%|█████████▏| 472/512 [08:31<00:37,  1.05it/s]\u001b[A\u001b[A\n",
      "\n",
      " 92%|█████████▏| 473/512 [08:32<00:36,  1.07it/s]\u001b[A\u001b[A\n",
      "\n",
      " 93%|█████████▎| 474/512 [08:33<00:33,  1.13it/s]\u001b[A\u001b[A\n",
      "\n",
      " 93%|█████████▎| 475/512 [08:34<00:32,  1.14it/s]\u001b[A\u001b[A\n",
      "\n",
      " 93%|█████████▎| 476/512 [08:35<00:30,  1.18it/s]\u001b[A\u001b[A\n",
      "\n",
      " 93%|█████████▎| 477/512 [08:36<00:31,  1.12it/s]\u001b[A\u001b[A\n",
      "\n",
      " 93%|█████████▎| 478/512 [08:38<00:41,  1.21s/it]\u001b[A\u001b[A\n",
      "\n",
      " 94%|█████████▎| 479/512 [08:39<00:37,  1.15s/it]\u001b[A\u001b[A\n",
      "\n",
      " 94%|█████████▍| 480/512 [08:39<00:33,  1.06s/it]\u001b[A\u001b[A\n",
      "\n",
      " 94%|█████████▍| 481/512 [08:40<00:32,  1.04s/it]\u001b[A\u001b[A\n",
      "\n",
      " 94%|█████████▍| 482/512 [08:41<00:28,  1.04it/s]\u001b[A\u001b[A\n",
      "\n",
      " 94%|█████████▍| 483/512 [08:42<00:27,  1.07it/s]\u001b[A\u001b[A\n",
      "\n",
      " 95%|█████████▍| 484/512 [08:43<00:26,  1.07it/s]\u001b[A\u001b[A\n",
      "\n",
      " 95%|█████████▍| 485/512 [08:44<00:24,  1.12it/s]\u001b[A\u001b[A\n",
      "\n",
      " 95%|█████████▍| 486/512 [08:45<00:23,  1.10it/s]\u001b[A\u001b[A\n",
      "\n",
      " 95%|█████████▌| 487/512 [08:46<00:22,  1.11it/s]\u001b[A\u001b[A\n",
      "\n",
      " 95%|█████████▌| 488/512 [08:46<00:20,  1.17it/s]\u001b[A\u001b[A\n",
      "\n",
      " 96%|█████████▌| 489/512 [08:48<00:22,  1.02it/s]\u001b[A\u001b[A\n",
      "\n",
      " 96%|█████████▌| 490/512 [08:48<00:20,  1.07it/s]\u001b[A\u001b[A\n",
      "\n",
      " 96%|█████████▌| 491/512 [08:49<00:18,  1.15it/s]\u001b[A\u001b[A\n",
      "\n",
      " 96%|█████████▌| 492/512 [08:51<00:22,  1.14s/it]\u001b[A\u001b[A\n",
      "\n",
      " 96%|█████████▋| 493/512 [08:52<00:20,  1.10s/it]\u001b[A\u001b[A\n",
      "\n",
      " 96%|█████████▋| 494/512 [08:53<00:18,  1.05s/it]\u001b[A\u001b[A\n",
      "\n",
      " 97%|█████████▋| 495/512 [08:54<00:17,  1.04s/it]\u001b[A\u001b[A\n",
      "\n",
      " 97%|█████████▋| 496/512 [08:56<00:20,  1.26s/it]\u001b[A\u001b[A\n",
      "\n",
      " 97%|█████████▋| 497/512 [08:57<00:19,  1.27s/it]\u001b[A\u001b[A\n",
      "\n",
      " 97%|█████████▋| 498/512 [08:58<00:16,  1.18s/it]\u001b[A\u001b[A\n",
      "\n",
      " 97%|█████████▋| 499/512 [08:59<00:14,  1.12s/it]\u001b[A\u001b[A\n",
      "\n",
      " 98%|█████████▊| 500/512 [09:00<00:13,  1.10s/it]\u001b[A\u001b[A\n",
      "\n",
      " 98%|█████████▊| 501/512 [09:01<00:11,  1.08s/it]\u001b[A\u001b[A\n",
      "\n",
      " 98%|█████████▊| 502/512 [09:02<00:10,  1.02s/it]\u001b[A\u001b[A\n",
      "\n",
      " 98%|█████████▊| 503/512 [09:03<00:08,  1.05it/s]\u001b[A\u001b[A\n",
      "\n",
      " 98%|█████████▊| 504/512 [09:03<00:07,  1.11it/s]\u001b[A\u001b[A\n",
      "\n",
      " 99%|█████████▊| 505/512 [09:04<00:06,  1.15it/s]\u001b[A\u001b[A\n",
      "\n",
      " 99%|█████████▉| 506/512 [09:05<00:05,  1.11it/s]\u001b[A\u001b[A\n",
      "\n",
      " 99%|█████████▉| 507/512 [09:06<00:04,  1.07it/s]\u001b[A\u001b[A\n",
      "\n",
      " 99%|█████████▉| 508/512 [09:07<00:03,  1.07it/s]\u001b[A\u001b[A\n",
      "\n",
      " 99%|█████████▉| 509/512 [09:08<00:02,  1.09it/s]\u001b[A\u001b[A\n",
      "\n",
      "100%|█████████▉| 510/512 [09:09<00:01,  1.11it/s]\u001b[A\u001b[A\n",
      "\n",
      "100%|█████████▉| 511/512 [09:10<00:00,  1.09it/s]\u001b[A\u001b[A\n",
      "\n",
      "100%|██████████| 512/512 [09:11<00:00,  1.14it/s]\u001b[A\u001b[A"
     ]
    }
   ],
   "source": [
    "# Parameters\n",
    "reg_covar = 0.5\n",
    "n_cluster = 1\n",
    "n_init = 5 # need to limit number of init kmeans\n",
    "\n",
    "cols = [c for c in train.columns if c not in ['id', 'target']]\n",
    "cols.remove('wheezy-copper-turtle-magic')\n",
    "oof_gm = np.zeros(len(train))\n",
    "#oof_gm2 = np.zeros(len(train))\n",
    "\n",
    "#preds_gm = np.zeros(len(test_s))\n",
    "#oof_full = np.zeros((len(train), n_cluster*2))\n",
    "#preds_full = np.zeros((len(test_s), n_cluster*2))\n",
    "\n",
    "# BUILD 512 SEPARATE MODELS\n",
    "for i in tqdm(range(512)):\n",
    "    # ONLY TRAIN WITH DATA WHERE WHEEZY EQUALS i\n",
    "    train2 = train[train['wheezy-copper-turtle-magic']==i]\n",
    "    test2 = test[test['wheezy-copper-turtle-magic']==i]\n",
    "    idx1 = train2.index\n",
    "    idx2 = test2.index\n",
    "    train2.reset_index(drop=True,inplace=True)\n",
    "    \n",
    "    # FEATURE SELECTION WITH Standard deviation (USE APPROX 40 OF 255 FEATURES)\n",
    "    sel = VarianceThreshold(threshold=1.5).fit(train2[cols])\n",
    "    train3 = sel.transform(train2[cols])\n",
    "    test3 = sel.transform(test2[cols])\n",
    "    \n",
    "    # STRATIFIED K-FOLD\n",
    "    skf = StratifiedKFold(n_splits=11, random_state=60, shuffle=True)\n",
    "    for train_index, val_index in skf.split(train3, train2['target']):\n",
    "        \n",
    "        ms, ps = get_mean_cov(train3[train_index,:],train2.loc[train_index]['target'].values)\n",
    "        \n",
    "        gm = GaussianMixture(n_components=2, covariance_type='full', tol=0.001,\n",
    "                             reg_covar=0.5, max_iter=100, n_init=n_init,\n",
    "                             means_init=ms, precisions_init=ps)\n",
    "\n",
    "        gm.fit(np.concatenate([train3,test3], axis = 0))\n",
    "\n",
    "        oof_gm[idx1[val_index]] = gm.predict_proba(train3[val_index,:])[:,1]\n",
    "        "
   ]
  },
  {
   "cell_type": "code",
   "execution_count": 137,
   "metadata": {},
   "outputs": [
    {
     "name": "stdout",
     "output_type": "stream",
     "text": [
      "0.9675630092147526\n"
     ]
    }
   ],
   "source": [
    "print(roc_auc_score(train['target'], oof_gm))"
   ]
  },
  {
   "cell_type": "markdown",
   "metadata": {},
   "source": [
    "## GMM 3 clusters"
   ]
  },
  {
   "cell_type": "code",
   "execution_count": 138,
   "metadata": {},
   "outputs": [
    {
     "name": "stderr",
     "output_type": "stream",
     "text": [
      "\n",
      "\n",
      "  0%|          | 0/512 [00:00<?, ?it/s]\u001b[A\u001b[A\n",
      "\n",
      "  0%|          | 1/512 [00:12<1:48:57, 12.79s/it]\u001b[A\u001b[A\n",
      "\n",
      "  0%|          | 2/512 [00:19<1:34:02, 11.06s/it]\u001b[A\u001b[A\n",
      "\n",
      "  1%|          | 3/512 [00:30<1:32:45, 10.93s/it]\u001b[A\u001b[A\n",
      "\n",
      "  1%|          | 4/512 [00:37<1:23:44,  9.89s/it]\u001b[A\u001b[A\n",
      "\n",
      "  1%|          | 5/512 [00:47<1:23:16,  9.86s/it]\u001b[A\u001b[A\n",
      "\n",
      "  1%|          | 6/512 [00:55<1:17:53,  9.24s/it]\u001b[A\u001b[A\n",
      "\n",
      "  1%|▏         | 7/512 [01:03<1:15:41,  8.99s/it]\u001b[A\u001b[A\n",
      "\n",
      "  2%|▏         | 8/512 [01:13<1:16:18,  9.08s/it]\u001b[A\u001b[A\n",
      "\n",
      "  2%|▏         | 9/512 [01:21<1:14:42,  8.91s/it]\u001b[A\u001b[A\n",
      "\n",
      "  2%|▏         | 10/512 [01:29<1:10:46,  8.46s/it]\u001b[A\u001b[A\n",
      "\n",
      "  2%|▏         | 11/512 [01:39<1:16:15,  9.13s/it]\u001b[A\u001b[A\n",
      "\n",
      "  2%|▏         | 12/512 [01:48<1:16:09,  9.14s/it]\u001b[A\u001b[A\n",
      "\n",
      "  3%|▎         | 13/512 [01:56<1:13:11,  8.80s/it]\u001b[A\u001b[A\n",
      "\n",
      "  3%|▎         | 14/512 [02:04<1:09:49,  8.41s/it]\u001b[A\u001b[A\n",
      "\n",
      "  3%|▎         | 15/512 [02:13<1:11:05,  8.58s/it]\u001b[A\u001b[A\n",
      "\n",
      "  3%|▎         | 16/512 [02:20<1:06:28,  8.04s/it]\u001b[A\u001b[A\n",
      "\n",
      "  3%|▎         | 17/512 [02:29<1:10:04,  8.49s/it]\u001b[A\u001b[A\n",
      "\n",
      "  4%|▎         | 18/512 [02:36<1:05:28,  7.95s/it]\u001b[A\u001b[A\n",
      "\n",
      "  4%|▎         | 19/512 [02:44<1:05:39,  7.99s/it]\u001b[A\u001b[A\n",
      "\n",
      "  4%|▍         | 20/512 [02:49<58:11,  7.10s/it]  \u001b[A\u001b[A\n",
      "\n",
      "  4%|▍         | 21/512 [02:56<56:33,  6.91s/it]\u001b[A\u001b[A\n",
      "\n",
      "  4%|▍         | 22/512 [03:02<56:21,  6.90s/it]\u001b[A\u001b[A\n",
      "\n",
      "  4%|▍         | 23/512 [03:12<1:02:11,  7.63s/it]\u001b[A\u001b[A\n",
      "\n",
      "  5%|▍         | 24/512 [03:21<1:06:30,  8.18s/it]\u001b[A\u001b[A\n",
      "\n",
      "  5%|▍         | 25/512 [03:30<1:07:05,  8.27s/it]\u001b[A\u001b[A\n",
      "\n",
      "  5%|▌         | 26/512 [03:38<1:07:55,  8.39s/it]\u001b[A\u001b[A\n",
      "\n",
      "  5%|▌         | 27/512 [03:49<1:13:50,  9.14s/it]\u001b[A\u001b[A\n",
      "\n",
      "  5%|▌         | 28/512 [03:59<1:15:12,  9.32s/it]\u001b[A\u001b[A\n",
      "\n",
      "  6%|▌         | 29/512 [04:06<1:08:52,  8.56s/it]\u001b[A\u001b[A\n",
      "\n",
      "  6%|▌         | 30/512 [04:13<1:05:45,  8.18s/it]\u001b[A\u001b[A\n",
      "\n",
      "  6%|▌         | 31/512 [04:21<1:05:59,  8.23s/it]\u001b[A\u001b[A\n",
      "\n",
      "  6%|▋         | 32/512 [04:30<1:06:45,  8.35s/it]\u001b[A\u001b[A\n",
      "\n",
      "  6%|▋         | 33/512 [04:39<1:07:55,  8.51s/it]\u001b[A\u001b[A\n",
      "\n",
      "  7%|▋         | 34/512 [04:47<1:05:47,  8.26s/it]\u001b[A\u001b[A\n",
      "\n",
      "  7%|▋         | 35/512 [04:54<1:03:55,  8.04s/it]\u001b[A\u001b[A\n",
      "\n",
      "  7%|▋         | 36/512 [05:03<1:05:50,  8.30s/it]\u001b[A\u001b[A\n",
      "\n",
      "  7%|▋         | 37/512 [05:12<1:07:35,  8.54s/it]\u001b[A\u001b[A\n",
      "\n",
      "  7%|▋         | 38/512 [05:20<1:06:44,  8.45s/it]\u001b[A\u001b[A\n",
      "\n",
      "  8%|▊         | 39/512 [05:30<1:09:01,  8.76s/it]\u001b[A\u001b[A\n",
      "\n",
      "  8%|▊         | 40/512 [05:38<1:07:57,  8.64s/it]\u001b[A\u001b[A\n",
      "\n",
      "  8%|▊         | 41/512 [05:47<1:09:14,  8.82s/it]\u001b[A\u001b[A\n",
      "\n",
      "  8%|▊         | 42/512 [05:56<1:08:04,  8.69s/it]\u001b[A\u001b[A\n",
      "\n",
      "  8%|▊         | 43/512 [06:07<1:13:14,  9.37s/it]\u001b[A\u001b[A\n",
      "\n",
      "  9%|▊         | 44/512 [06:13<1:05:30,  8.40s/it]\u001b[A\u001b[A\n",
      "\n",
      "  9%|▉         | 45/512 [06:23<1:08:31,  8.80s/it]\u001b[A\u001b[A\n",
      "\n",
      "  9%|▉         | 46/512 [06:32<1:09:13,  8.91s/it]\u001b[A\u001b[A\n",
      "\n",
      "  9%|▉         | 47/512 [06:38<1:02:07,  8.02s/it]\u001b[A\u001b[A\n",
      "\n",
      "  9%|▉         | 48/512 [06:50<1:10:48,  9.16s/it]\u001b[A\u001b[A\n",
      "\n",
      " 10%|▉         | 49/512 [06:59<1:10:08,  9.09s/it]\u001b[A\u001b[A\n",
      "\n",
      " 10%|▉         | 50/512 [07:09<1:13:33,  9.55s/it]\u001b[A\u001b[A\n",
      "\n",
      " 10%|▉         | 51/512 [07:18<1:12:49,  9.48s/it]\u001b[A\u001b[A\n",
      "\n",
      " 10%|█         | 52/512 [07:27<1:11:07,  9.28s/it]\u001b[A\u001b[A\n",
      "\n",
      " 10%|█         | 53/512 [07:35<1:07:39,  8.84s/it]\u001b[A\u001b[A\n",
      "\n",
      " 11%|█         | 54/512 [07:41<1:01:24,  8.05s/it]\u001b[A\u001b[A\n",
      "\n",
      " 11%|█         | 55/512 [07:48<57:40,  7.57s/it]  \u001b[A\u001b[A\n",
      "\n",
      " 11%|█         | 56/512 [07:56<59:53,  7.88s/it]\u001b[A\u001b[A\n",
      "\n",
      " 11%|█         | 57/512 [08:07<1:05:11,  8.60s/it]\u001b[A\u001b[A\n",
      "\n",
      " 11%|█▏        | 58/512 [08:13<59:26,  7.86s/it]  \u001b[A\u001b[A\n",
      "\n",
      " 12%|█▏        | 59/512 [08:20<58:36,  7.76s/it]\u001b[A\u001b[A\n",
      "\n",
      " 12%|█▏        | 60/512 [08:27<56:00,  7.44s/it]\u001b[A\u001b[A\n",
      "\n",
      " 12%|█▏        | 61/512 [08:35<56:50,  7.56s/it]\u001b[A\u001b[A\n",
      "\n",
      " 12%|█▏        | 62/512 [08:41<54:08,  7.22s/it]\u001b[A\u001b[A\n",
      "\n",
      " 12%|█▏        | 63/512 [08:47<51:34,  6.89s/it]\u001b[A\u001b[A\n",
      "\n",
      " 12%|█▎        | 64/512 [08:57<57:44,  7.73s/it]\u001b[A\u001b[A\n",
      "\n",
      " 13%|█▎        | 65/512 [09:06<1:01:08,  8.21s/it]\u001b[A\u001b[A\n",
      "\n",
      " 13%|█▎        | 66/512 [09:14<59:32,  8.01s/it]  \u001b[A\u001b[A\n",
      "\n",
      " 13%|█▎        | 67/512 [09:22<59:59,  8.09s/it]\u001b[A\u001b[A\n",
      "\n",
      " 13%|█▎        | 68/512 [09:28<55:26,  7.49s/it]\u001b[A\u001b[A\n",
      "\n",
      " 13%|█▎        | 69/512 [09:36<55:16,  7.49s/it]\u001b[A\u001b[A\n",
      "\n",
      " 14%|█▎        | 70/512 [09:42<53:07,  7.21s/it]\u001b[A\u001b[A\n",
      "\n",
      " 14%|█▍        | 71/512 [09:48<48:39,  6.62s/it]\u001b[A\u001b[A\n",
      "\n",
      " 14%|█▍        | 72/512 [09:57<53:49,  7.34s/it]\u001b[A\u001b[A\n",
      "\n",
      " 14%|█▍        | 73/512 [10:05<55:41,  7.61s/it]\u001b[A\u001b[A\n",
      "\n",
      " 14%|█▍        | 74/512 [10:14<58:01,  7.95s/it]\u001b[A\u001b[A\n",
      "\n",
      " 15%|█▍        | 75/512 [10:21<57:28,  7.89s/it]\u001b[A\u001b[A\n",
      "\n",
      " 15%|█▍        | 76/512 [10:30<58:56,  8.11s/it]\u001b[A\u001b[A\n",
      "\n",
      " 15%|█▌        | 77/512 [10:37<55:35,  7.67s/it]\u001b[A\u001b[A\n",
      "\n",
      " 15%|█▌        | 78/512 [10:44<55:27,  7.67s/it]\u001b[A\u001b[A\n",
      "\n",
      " 15%|█▌        | 79/512 [10:54<59:07,  8.19s/it]\u001b[A\u001b[A\n",
      "\n",
      " 16%|█▌        | 80/512 [11:01<56:34,  7.86s/it]\u001b[A\u001b[A\n",
      "\n",
      " 16%|█▌        | 81/512 [11:07<52:52,  7.36s/it]\u001b[A\u001b[A\n",
      "\n",
      " 16%|█▌        | 82/512 [11:18<1:01:30,  8.58s/it]\u001b[A\u001b[A\n",
      "\n",
      " 16%|█▌        | 83/512 [11:26<58:23,  8.17s/it]  \u001b[A\u001b[A\n",
      "\n",
      " 16%|█▋        | 84/512 [11:40<1:11:26, 10.01s/it]\u001b[A\u001b[A\n",
      "\n",
      " 17%|█▋        | 85/512 [11:47<1:04:49,  9.11s/it]\u001b[A\u001b[A\n",
      "\n",
      " 17%|█▋        | 86/512 [12:03<1:19:53, 11.25s/it]\u001b[A\u001b[A\n",
      "\n",
      " 17%|█▋        | 87/512 [12:10<1:09:17,  9.78s/it]\u001b[A\u001b[A\n",
      "\n",
      " 17%|█▋        | 88/512 [12:23<1:16:54, 10.88s/it]\u001b[A\u001b[A\n",
      "\n",
      " 17%|█▋        | 89/512 [12:35<1:18:32, 11.14s/it]\u001b[A\u001b[A\n",
      "\n",
      " 18%|█▊        | 90/512 [12:44<1:14:34, 10.60s/it]\u001b[A\u001b[A\n",
      "\n",
      " 18%|█▊        | 91/512 [12:51<1:06:53,  9.53s/it]\u001b[A\u001b[A\n",
      "\n",
      " 18%|█▊        | 92/512 [13:01<1:08:20,  9.76s/it]\u001b[A\u001b[A\n",
      "\n",
      " 18%|█▊        | 93/512 [13:09<1:02:48,  8.99s/it]\u001b[A\u001b[A\n",
      "\n",
      " 18%|█▊        | 94/512 [13:21<1:09:05,  9.92s/it]\u001b[A\u001b[A\n",
      "\n",
      " 19%|█▊        | 95/512 [13:31<1:09:26,  9.99s/it]\u001b[A\u001b[A\n",
      "\n",
      " 19%|█▉        | 96/512 [13:39<1:05:19,  9.42s/it]\u001b[A\u001b[A\n",
      "\n",
      " 19%|█▉        | 97/512 [13:49<1:07:12,  9.72s/it]\u001b[A\u001b[A\n",
      "\n",
      " 19%|█▉        | 98/512 [14:00<1:08:27,  9.92s/it]\u001b[A\u001b[A\n",
      "\n",
      " 19%|█▉        | 99/512 [14:08<1:04:14,  9.33s/it]\u001b[A\u001b[A\n",
      "\n",
      " 20%|█▉        | 100/512 [14:16<1:01:19,  8.93s/it]\u001b[A\u001b[A\n",
      "\n",
      " 20%|█▉        | 101/512 [14:22<55:53,  8.16s/it]  \u001b[A\u001b[A\n",
      "\n",
      " 20%|█▉        | 102/512 [14:30<55:19,  8.10s/it]\u001b[A\u001b[A\n",
      "\n",
      " 20%|██        | 103/512 [14:41<1:01:37,  9.04s/it]\u001b[A\u001b[A\n",
      "\n",
      " 20%|██        | 104/512 [14:49<59:12,  8.71s/it]  \u001b[A\u001b[A\n",
      "\n",
      " 21%|██        | 105/512 [15:01<1:04:33,  9.52s/it]\u001b[A\u001b[A\n",
      "\n",
      " 21%|██        | 106/512 [15:08<1:00:21,  8.92s/it]\u001b[A\u001b[A\n",
      "\n",
      " 21%|██        | 107/512 [15:14<54:42,  8.10s/it]  \u001b[A\u001b[A\n",
      "\n",
      " 21%|██        | 108/512 [15:24<57:15,  8.50s/it]\u001b[A\u001b[A\n",
      "\n",
      " 21%|██▏       | 109/512 [15:33<58:48,  8.76s/it]\u001b[A\u001b[A\n",
      "\n",
      " 21%|██▏       | 110/512 [15:40<54:11,  8.09s/it]\u001b[A\u001b[A\n",
      "\n",
      " 22%|██▏       | 111/512 [15:47<53:21,  7.98s/it]\u001b[A\u001b[A\n",
      "\n",
      " 22%|██▏       | 112/512 [15:55<52:24,  7.86s/it]\u001b[A\u001b[A\n",
      "\n",
      " 22%|██▏       | 113/512 [16:03<51:46,  7.78s/it]\u001b[A\u001b[A\n",
      "\n",
      " 22%|██▏       | 114/512 [16:12<55:06,  8.31s/it]\u001b[A\u001b[A\n",
      "\n",
      " 22%|██▏       | 115/512 [16:19<51:29,  7.78s/it]\u001b[A\u001b[A\n",
      "\n",
      " 23%|██▎       | 116/512 [16:28<53:38,  8.13s/it]\u001b[A\u001b[A\n",
      "\n",
      " 23%|██▎       | 117/512 [16:41<1:03:04,  9.58s/it]\u001b[A\u001b[A\n",
      "\n",
      " 23%|██▎       | 118/512 [16:52<1:06:06, 10.07s/it]\u001b[A\u001b[A\n",
      "\n",
      " 23%|██▎       | 119/512 [16:58<58:11,  8.88s/it]  \u001b[A\u001b[A\n",
      "\n",
      " 23%|██▎       | 120/512 [17:06<56:26,  8.64s/it]\u001b[A\u001b[A\n",
      "\n",
      " 24%|██▎       | 121/512 [17:11<50:01,  7.68s/it]\u001b[A\u001b[A\n",
      "\n",
      " 24%|██▍       | 122/512 [17:33<1:17:02, 11.85s/it]\u001b[A\u001b[A\n",
      "\n",
      " 24%|██▍       | 123/512 [17:43<1:13:09, 11.29s/it]\u001b[A\u001b[A\n",
      "\n",
      " 24%|██▍       | 124/512 [17:54<1:12:40, 11.24s/it]\u001b[A\u001b[A\n",
      "\n",
      " 24%|██▍       | 125/512 [18:04<1:10:27, 10.92s/it]\u001b[A\u001b[A\n",
      "\n",
      " 25%|██▍       | 126/512 [18:25<1:28:20, 13.73s/it]\u001b[A\u001b[A\n",
      "\n",
      " 25%|██▍       | 127/512 [18:37<1:24:46, 13.21s/it]\u001b[A\u001b[A\n",
      "\n",
      " 25%|██▌       | 128/512 [18:43<1:11:13, 11.13s/it]\u001b[A\u001b[A\n",
      "\n",
      " 25%|██▌       | 129/512 [18:56<1:14:47, 11.72s/it]\u001b[A\u001b[A\n",
      "\n",
      " 25%|██▌       | 130/512 [19:06<1:12:31, 11.39s/it]\u001b[A\u001b[A\n",
      "\n",
      " 26%|██▌       | 131/512 [19:12<1:01:25,  9.67s/it]\u001b[A\u001b[A\n",
      "\n",
      " 26%|██▌       | 132/512 [19:19<56:40,  8.95s/it]  \u001b[A\u001b[A\n",
      "\n",
      " 26%|██▌       | 133/512 [19:28<56:10,  8.89s/it]\u001b[A\u001b[A\n",
      "\n",
      " 26%|██▌       | 134/512 [19:36<54:19,  8.62s/it]\u001b[A\u001b[A\n",
      "\n",
      " 26%|██▋       | 135/512 [19:45<54:07,  8.61s/it]\u001b[A\u001b[A\n",
      "\n",
      " 27%|██▋       | 136/512 [19:50<48:24,  7.72s/it]\u001b[A\u001b[A\n",
      "\n",
      " 27%|██▋       | 137/512 [19:56<44:43,  7.16s/it]\u001b[A\u001b[A\n",
      "\n",
      " 27%|██▋       | 138/512 [20:04<45:30,  7.30s/it]\u001b[A\u001b[A\n",
      "\n",
      " 27%|██▋       | 139/512 [20:12<46:12,  7.43s/it]\u001b[A\u001b[A\n",
      "\n",
      " 27%|██▋       | 140/512 [20:18<44:54,  7.24s/it]\u001b[A\u001b[A\n",
      "\n",
      " 28%|██▊       | 141/512 [20:25<44:07,  7.14s/it]\u001b[A\u001b[A\n",
      "\n",
      " 28%|██▊       | 142/512 [20:33<45:33,  7.39s/it]\u001b[A\u001b[A\n",
      "\n",
      " 28%|██▊       | 143/512 [20:41<45:58,  7.47s/it]\u001b[A\u001b[A\n",
      "\n",
      " 28%|██▊       | 144/512 [20:47<42:36,  6.95s/it]\u001b[A\u001b[A\n",
      "\n",
      " 28%|██▊       | 145/512 [20:53<41:47,  6.83s/it]\u001b[A\u001b[A\n",
      "\n",
      " 29%|██▊       | 146/512 [21:00<41:10,  6.75s/it]\u001b[A\u001b[A\n",
      "\n",
      " 29%|██▊       | 147/512 [21:06<40:16,  6.62s/it]\u001b[A\u001b[A\n",
      "\n",
      " 29%|██▉       | 148/512 [21:13<40:40,  6.71s/it]\u001b[A\u001b[A\n",
      "\n",
      " 29%|██▉       | 149/512 [21:21<43:11,  7.14s/it]\u001b[A\u001b[A\n",
      "\n",
      " 29%|██▉       | 150/512 [21:31<48:19,  8.01s/it]\u001b[A\u001b[A\n",
      "\n",
      " 29%|██▉       | 151/512 [21:40<50:24,  8.38s/it]\u001b[A\u001b[A\n",
      "\n",
      " 30%|██▉       | 152/512 [21:48<48:26,  8.07s/it]\u001b[A\u001b[A\n",
      "\n",
      " 30%|██▉       | 153/512 [21:54<45:39,  7.63s/it]\u001b[A\u001b[A\n",
      "\n",
      " 30%|███       | 154/512 [22:06<53:01,  8.89s/it]\u001b[A\u001b[A\n",
      "\n",
      " 30%|███       | 155/512 [22:15<52:27,  8.82s/it]\u001b[A\u001b[A\n",
      "\n",
      " 30%|███       | 156/512 [22:23<51:23,  8.66s/it]\u001b[A\u001b[A\n",
      "\n",
      " 31%|███       | 157/512 [22:32<51:01,  8.62s/it]\u001b[A\u001b[A\n",
      "\n",
      " 31%|███       | 158/512 [22:42<53:33,  9.08s/it]\u001b[A\u001b[A\n",
      "\n",
      " 31%|███       | 159/512 [22:50<52:10,  8.87s/it]\u001b[A\u001b[A\n",
      "\n",
      " 31%|███▏      | 160/512 [22:56<46:35,  7.94s/it]\u001b[A\u001b[A\n",
      "\n",
      " 31%|███▏      | 161/512 [23:03<44:14,  7.56s/it]\u001b[A\u001b[A\n",
      "\n",
      " 32%|███▏      | 162/512 [23:10<43:49,  7.51s/it]\u001b[A\u001b[A\n",
      "\n",
      " 32%|███▏      | 163/512 [23:17<42:57,  7.39s/it]\u001b[A\u001b[A\n",
      "\n",
      " 32%|███▏      | 164/512 [23:25<43:16,  7.46s/it]\u001b[A\u001b[A\n",
      "\n",
      " 32%|███▏      | 165/512 [23:32<42:32,  7.36s/it]\u001b[A\u001b[A\n",
      "\n",
      " 32%|███▏      | 166/512 [23:42<47:47,  8.29s/it]\u001b[A\u001b[A\n",
      "\n",
      " 33%|███▎      | 167/512 [23:49<45:15,  7.87s/it]\u001b[A\u001b[A\n",
      "\n",
      " 33%|███▎      | 168/512 [24:02<53:54,  9.40s/it]\u001b[A\u001b[A\n",
      "\n",
      " 33%|███▎      | 169/512 [24:17<1:02:17, 10.90s/it]\u001b[A\u001b[A\n",
      "\n",
      " 33%|███▎      | 170/512 [24:26<59:17, 10.40s/it]  \u001b[A\u001b[A\n",
      "\n",
      " 33%|███▎      | 171/512 [24:39<1:03:53, 11.24s/it]\u001b[A\u001b[A\n",
      "\n",
      " 34%|███▎      | 172/512 [24:49<1:02:16, 10.99s/it]\u001b[A\u001b[A\n",
      "\n",
      " 34%|███▍      | 173/512 [24:57<56:17,  9.96s/it]  \u001b[A\u001b[A\n",
      "\n",
      " 34%|███▍      | 174/512 [25:04<51:35,  9.16s/it]\u001b[A\u001b[A\n",
      "\n",
      " 34%|███▍      | 175/512 [25:12<49:24,  8.80s/it]\u001b[A\u001b[A\n",
      "\n",
      " 34%|███▍      | 176/512 [25:19<46:01,  8.22s/it]\u001b[A\u001b[A\n",
      "\n",
      " 35%|███▍      | 177/512 [25:29<49:14,  8.82s/it]\u001b[A\u001b[A\n",
      "\n",
      " 35%|███▍      | 178/512 [25:36<45:51,  8.24s/it]\u001b[A\u001b[A\n",
      "\n",
      " 35%|███▍      | 179/512 [25:43<43:35,  7.85s/it]\u001b[A\u001b[A\n",
      "\n",
      " 35%|███▌      | 180/512 [25:52<45:37,  8.25s/it]\u001b[A\u001b[A\n",
      "\n",
      " 35%|███▌      | 181/512 [25:58<40:38,  7.37s/it]\u001b[A\u001b[A\n",
      "\n",
      " 36%|███▌      | 182/512 [26:04<38:00,  6.91s/it]\u001b[A\u001b[A\n",
      "\n",
      " 36%|███▌      | 183/512 [26:11<39:13,  7.15s/it]\u001b[A\u001b[A\n",
      "\n",
      " 36%|███▌      | 184/512 [26:18<38:00,  6.95s/it]\u001b[A\u001b[A\n",
      "\n",
      " 36%|███▌      | 185/512 [26:30<46:49,  8.59s/it]\u001b[A\u001b[A\n",
      "\n",
      " 36%|███▋      | 186/512 [26:38<45:55,  8.45s/it]\u001b[A\u001b[A\n",
      "\n",
      " 37%|███▋      | 187/512 [26:46<44:25,  8.20s/it]\u001b[A\u001b[A\n",
      "\n",
      " 37%|███▋      | 188/512 [26:56<46:42,  8.65s/it]\u001b[A\u001b[A\n",
      "\n",
      " 37%|███▋      | 189/512 [27:09<54:04, 10.05s/it]\u001b[A\u001b[A\n",
      "\n",
      " 37%|███▋      | 190/512 [27:19<53:26,  9.96s/it]\u001b[A\u001b[A\n",
      "\n",
      " 37%|███▋      | 191/512 [27:30<55:06, 10.30s/it]\u001b[A\u001b[A\n",
      "\n",
      " 38%|███▊      | 192/512 [27:41<56:13, 10.54s/it]\u001b[A\u001b[A\n",
      "\n",
      " 38%|███▊      | 193/512 [27:51<55:41, 10.47s/it]\u001b[A\u001b[A\n",
      "\n",
      " 38%|███▊      | 194/512 [27:58<49:56,  9.42s/it]\u001b[A\u001b[A\n",
      "\n",
      " 38%|███▊      | 195/512 [28:07<49:29,  9.37s/it]\u001b[A\u001b[A\n",
      "\n",
      " 38%|███▊      | 196/512 [28:16<47:35,  9.04s/it]\u001b[A\u001b[A\n",
      "\n",
      " 38%|███▊      | 197/512 [28:25<48:18,  9.20s/it]\u001b[A\u001b[A\n",
      "\n",
      " 39%|███▊      | 198/512 [28:32<44:38,  8.53s/it]\u001b[A\u001b[A\n",
      "\n",
      " 39%|███▉      | 199/512 [28:40<44:03,  8.44s/it]\u001b[A\u001b[A\n",
      "\n",
      " 39%|███▉      | 200/512 [28:50<45:03,  8.67s/it]\u001b[A\u001b[A\n",
      "\n",
      " 39%|███▉      | 201/512 [28:55<40:17,  7.77s/it]\u001b[A\u001b[A\n",
      "\n",
      " 39%|███▉      | 202/512 [29:02<37:59,  7.35s/it]\u001b[A\u001b[A\n",
      "\n",
      " 40%|███▉      | 203/512 [29:09<38:10,  7.41s/it]\u001b[A\u001b[A\n",
      "\n",
      " 40%|███▉      | 204/512 [29:19<41:22,  8.06s/it]\u001b[A\u001b[A\n",
      "\n",
      " 40%|████      | 205/512 [29:27<40:57,  8.00s/it]\u001b[A\u001b[A\n",
      "\n",
      " 40%|████      | 206/512 [29:32<37:16,  7.31s/it]\u001b[A\u001b[A\n",
      "\n",
      " 40%|████      | 207/512 [29:38<35:10,  6.92s/it]\u001b[A\u001b[A\n",
      "\n",
      " 41%|████      | 208/512 [29:52<44:41,  8.82s/it]\u001b[A\u001b[A\n",
      "\n",
      " 41%|████      | 209/512 [30:01<45:08,  8.94s/it]\u001b[A\u001b[A\n",
      "\n",
      " 41%|████      | 210/512 [30:10<44:35,  8.86s/it]\u001b[A\u001b[A\n",
      "\n",
      " 41%|████      | 211/512 [30:20<46:52,  9.34s/it]\u001b[A\u001b[A\n",
      "\n",
      " 41%|████▏     | 212/512 [30:27<42:40,  8.53s/it]\u001b[A\u001b[A\n",
      "\n",
      " 42%|████▏     | 213/512 [30:32<38:23,  7.70s/it]\u001b[A\u001b[A\n",
      "\n",
      " 42%|████▏     | 214/512 [30:39<35:56,  7.24s/it]\u001b[A\u001b[A\n",
      "\n",
      " 42%|████▏     | 215/512 [30:44<33:03,  6.68s/it]\u001b[A\u001b[A\n",
      "\n",
      " 42%|████▏     | 216/512 [30:52<34:23,  6.97s/it]\u001b[A\u001b[A\n",
      "\n",
      " 42%|████▏     | 217/512 [30:57<31:20,  6.38s/it]\u001b[A\u001b[A\n",
      "\n",
      " 43%|████▎     | 218/512 [31:02<29:25,  6.01s/it]\u001b[A\u001b[A\n",
      "\n",
      " 43%|████▎     | 219/512 [31:06<27:08,  5.56s/it]\u001b[A\u001b[A\n",
      "\n",
      " 43%|████▎     | 220/512 [31:13<28:31,  5.86s/it]\u001b[A\u001b[A\n",
      "\n",
      " 43%|████▎     | 221/512 [31:21<32:26,  6.69s/it]\u001b[A\u001b[A\n",
      "\n",
      " 43%|████▎     | 222/512 [31:29<33:59,  7.03s/it]\u001b[A\u001b[A\n",
      "\n",
      " 44%|████▎     | 223/512 [31:39<38:17,  7.95s/it]\u001b[A\u001b[A\n",
      "\n",
      " 44%|████▍     | 224/512 [31:45<34:22,  7.16s/it]\u001b[A\u001b[A\n",
      "\n",
      " 44%|████▍     | 225/512 [31:52<35:01,  7.32s/it]\u001b[A\u001b[A\n",
      "\n",
      " 44%|████▍     | 226/512 [31:57<31:43,  6.66s/it]\u001b[A\u001b[A\n",
      "\n",
      " 44%|████▍     | 227/512 [32:06<34:22,  7.24s/it]\u001b[A\u001b[A\n",
      "\n",
      " 45%|████▍     | 228/512 [32:13<33:11,  7.01s/it]\u001b[A\u001b[A\n",
      "\n",
      " 45%|████▍     | 229/512 [32:20<33:25,  7.09s/it]\u001b[A\u001b[A\n",
      "\n",
      " 45%|████▍     | 230/512 [32:28<34:09,  7.27s/it]\u001b[A\u001b[A\n",
      "\n",
      " 45%|████▌     | 231/512 [32:37<37:50,  8.08s/it]\u001b[A\u001b[A\n",
      "\n",
      " 45%|████▌     | 232/512 [32:44<34:57,  7.49s/it]\u001b[A\u001b[A\n",
      "\n",
      " 46%|████▌     | 233/512 [32:49<31:37,  6.80s/it]\u001b[A\u001b[A\n",
      "\n",
      " 46%|████▌     | 234/512 [32:58<35:10,  7.59s/it]\u001b[A\u001b[A\n",
      "\n",
      " 46%|████▌     | 235/512 [33:06<35:10,  7.62s/it]\u001b[A\u001b[A\n",
      "\n",
      " 46%|████▌     | 236/512 [33:13<33:58,  7.39s/it]\u001b[A\u001b[A\n",
      "\n",
      " 46%|████▋     | 237/512 [33:20<33:35,  7.33s/it]\u001b[A\u001b[A\n",
      "\n",
      " 46%|████▋     | 238/512 [33:26<32:02,  7.02s/it]\u001b[A\u001b[A\n",
      "\n",
      " 47%|████▋     | 239/512 [33:34<33:02,  7.26s/it]\u001b[A\u001b[A\n",
      "\n",
      " 47%|████▋     | 240/512 [33:41<31:55,  7.04s/it]\u001b[A\u001b[A\n",
      "\n",
      " 47%|████▋     | 241/512 [33:49<33:54,  7.51s/it]\u001b[A\u001b[A\n",
      "\n",
      " 47%|████▋     | 242/512 [33:58<35:48,  7.96s/it]\u001b[A\u001b[A\n",
      "\n",
      " 47%|████▋     | 243/512 [34:06<35:53,  8.00s/it]\u001b[A\u001b[A\n",
      "\n",
      " 48%|████▊     | 244/512 [34:15<36:43,  8.22s/it]\u001b[A\u001b[A\n",
      "\n",
      " 48%|████▊     | 245/512 [34:26<39:36,  8.90s/it]\u001b[A\u001b[A\n",
      "\n",
      " 48%|████▊     | 246/512 [34:32<36:40,  8.27s/it]\u001b[A\u001b[A\n",
      "\n",
      " 48%|████▊     | 247/512 [34:39<34:39,  7.85s/it]\u001b[A\u001b[A\n",
      "\n",
      " 48%|████▊     | 248/512 [34:46<33:16,  7.56s/it]\u001b[A\u001b[A\n",
      "\n",
      " 49%|████▊     | 249/512 [34:55<35:14,  8.04s/it]\u001b[A\u001b[A\n",
      "\n",
      " 49%|████▉     | 250/512 [35:01<31:55,  7.31s/it]\u001b[A\u001b[A\n",
      "\n",
      " 49%|████▉     | 251/512 [35:07<30:23,  6.99s/it]\u001b[A\u001b[A\n",
      "\n",
      " 49%|████▉     | 252/512 [35:12<27:45,  6.41s/it]\u001b[A\u001b[A\n",
      "\n",
      " 49%|████▉     | 253/512 [35:18<27:33,  6.38s/it]\u001b[A\u001b[A\n",
      "\n",
      " 50%|████▉     | 254/512 [35:27<30:10,  7.02s/it]\u001b[A\u001b[A\n",
      "\n",
      " 50%|████▉     | 255/512 [35:38<35:04,  8.19s/it]\u001b[A\u001b[A\n",
      "\n",
      " 50%|█████     | 256/512 [35:45<33:57,  7.96s/it]\u001b[A\u001b[A\n",
      "\n",
      " 50%|█████     | 257/512 [35:53<33:41,  7.93s/it]\u001b[A\u001b[A\n",
      "\n",
      " 50%|█████     | 258/512 [36:00<32:06,  7.59s/it]\u001b[A\u001b[A\n",
      "\n",
      " 51%|█████     | 259/512 [36:07<31:14,  7.41s/it]\u001b[A\u001b[A\n",
      "\n",
      " 51%|█████     | 260/512 [36:17<34:15,  8.16s/it]\u001b[A\u001b[A\n",
      "\n",
      " 51%|█████     | 261/512 [36:26<34:47,  8.32s/it]\u001b[A\u001b[A\n",
      "\n",
      " 51%|█████     | 262/512 [36:33<33:28,  8.04s/it]\u001b[A\u001b[A\n",
      "\n",
      " 51%|█████▏    | 263/512 [36:42<34:27,  8.30s/it]\u001b[A\u001b[A\n",
      "\n",
      " 52%|█████▏    | 264/512 [36:52<36:35,  8.85s/it]\u001b[A\u001b[A\n",
      "\n",
      " 52%|█████▏    | 265/512 [37:00<35:16,  8.57s/it]\u001b[A\u001b[A\n",
      "\n",
      " 52%|█████▏    | 266/512 [37:07<32:54,  8.03s/it]\u001b[A\u001b[A\n",
      "\n",
      " 52%|█████▏    | 267/512 [37:18<37:24,  9.16s/it]\u001b[A\u001b[A\n",
      "\n",
      " 52%|█████▏    | 268/512 [37:28<37:46,  9.29s/it]\u001b[A\u001b[A\n",
      "\n",
      " 53%|█████▎    | 269/512 [37:35<34:37,  8.55s/it]\u001b[A\u001b[A\n",
      "\n",
      " 53%|█████▎    | 270/512 [37:42<33:01,  8.19s/it]\u001b[A\u001b[A\n",
      "\n",
      " 53%|█████▎    | 271/512 [37:51<33:32,  8.35s/it]\u001b[A\u001b[A\n",
      "\n",
      " 53%|█████▎    | 272/512 [38:04<38:53,  9.72s/it]\u001b[A\u001b[A\n",
      "\n",
      " 53%|█████▎    | 273/512 [38:09<33:18,  8.36s/it]\u001b[A\u001b[A\n",
      "\n",
      " 54%|█████▎    | 274/512 [38:16<32:01,  8.07s/it]\u001b[A\u001b[A\n",
      "\n",
      " 54%|█████▎    | 275/512 [38:24<31:34,  8.00s/it]\u001b[A\u001b[A\n",
      "\n",
      " 54%|█████▍    | 276/512 [38:34<33:12,  8.44s/it]\u001b[A\u001b[A\n",
      "\n",
      " 54%|█████▍    | 277/512 [38:44<35:27,  9.05s/it]\u001b[A\u001b[A\n",
      "\n",
      " 54%|█████▍    | 278/512 [38:53<35:06,  9.00s/it]\u001b[A\u001b[A\n",
      "\n",
      " 54%|█████▍    | 279/512 [39:01<33:53,  8.73s/it]\u001b[A\u001b[A\n",
      "\n",
      " 55%|█████▍    | 280/512 [39:07<30:22,  7.86s/it]\u001b[A\u001b[A\n",
      "\n",
      " 55%|█████▍    | 281/512 [39:16<31:59,  8.31s/it]\u001b[A\u001b[A\n",
      "\n",
      " 55%|█████▌    | 282/512 [39:29<36:14,  9.45s/it]\u001b[A\u001b[A\n",
      "\n",
      " 55%|█████▌    | 283/512 [39:36<34:20,  9.00s/it]\u001b[A\u001b[A\n",
      "\n",
      " 55%|█████▌    | 284/512 [39:43<31:24,  8.27s/it]\u001b[A\u001b[A\n",
      "\n"
     ]
    },
    {
     "name": "stderr",
     "output_type": "stream",
     "text": [
      " 56%|█████▌    | 285/512 [40:01<42:50, 11.32s/it]\u001b[A\u001b[A\n",
      "\n",
      " 56%|█████▌    | 286/512 [40:08<37:13,  9.88s/it]\u001b[A\u001b[A\n",
      "\n",
      " 56%|█████▌    | 287/512 [40:15<34:10,  9.11s/it]\u001b[A\u001b[A\n",
      "\n",
      " 56%|█████▋    | 288/512 [40:26<35:31,  9.51s/it]\u001b[A\u001b[A\n",
      "\n",
      " 56%|█████▋    | 289/512 [40:37<37:22, 10.06s/it]\u001b[A\u001b[A\n",
      "\n",
      " 57%|█████▋    | 290/512 [40:45<34:43,  9.39s/it]\u001b[A\u001b[A\n",
      "\n",
      " 57%|█████▋    | 291/512 [40:52<31:34,  8.57s/it]\u001b[A\u001b[A\n",
      "\n",
      " 57%|█████▋    | 292/512 [40:57<27:44,  7.57s/it]\u001b[A\u001b[A\n",
      "\n",
      " 57%|█████▋    | 293/512 [41:02<24:45,  6.78s/it]\u001b[A\u001b[A\n",
      "\n",
      " 57%|█████▋    | 294/512 [41:10<25:42,  7.08s/it]\u001b[A\u001b[A\n",
      "\n",
      " 58%|█████▊    | 295/512 [41:16<24:41,  6.83s/it]\u001b[A\u001b[A\n",
      "\n",
      " 58%|█████▊    | 296/512 [41:21<23:01,  6.40s/it]\u001b[A\u001b[A\n",
      "\n",
      " 58%|█████▊    | 297/512 [41:27<22:05,  6.17s/it]\u001b[A\u001b[A\n",
      "\n",
      " 58%|█████▊    | 298/512 [41:37<26:17,  7.37s/it]\u001b[A\u001b[A\n",
      "\n",
      " 58%|█████▊    | 299/512 [41:44<26:00,  7.33s/it]\u001b[A\u001b[A\n",
      "\n",
      " 59%|█████▊    | 300/512 [41:53<26:58,  7.64s/it]\u001b[A\u001b[A\n",
      "\n",
      " 59%|█████▉    | 301/512 [41:58<25:01,  7.12s/it]\u001b[A\u001b[A\n",
      "\n",
      " 59%|█████▉    | 302/512 [42:05<24:09,  6.90s/it]\u001b[A\u001b[A\n",
      "\n",
      " 59%|█████▉    | 303/512 [42:11<23:38,  6.79s/it]\u001b[A\u001b[A\n",
      "\n",
      " 59%|█████▉    | 304/512 [42:20<24:56,  7.19s/it]\u001b[A\u001b[A\n",
      "\n",
      " 60%|█████▉    | 305/512 [42:29<27:10,  7.88s/it]\u001b[A\u001b[A\n",
      "\n",
      " 60%|█████▉    | 306/512 [42:37<26:55,  7.84s/it]\u001b[A\u001b[A\n",
      "\n",
      " 60%|█████▉    | 307/512 [42:43<25:11,  7.37s/it]\u001b[A\u001b[A\n",
      "\n",
      " 60%|██████    | 308/512 [42:51<25:29,  7.50s/it]\u001b[A\u001b[A\n",
      "\n",
      " 60%|██████    | 309/512 [43:01<27:45,  8.20s/it]\u001b[A\u001b[A\n",
      "\n",
      " 61%|██████    | 310/512 [43:08<26:18,  7.81s/it]\u001b[A\u001b[A\n",
      "\n",
      " 61%|██████    | 311/512 [43:18<28:26,  8.49s/it]\u001b[A\u001b[A\n",
      "\n",
      " 61%|██████    | 312/512 [43:25<27:22,  8.21s/it]\u001b[A\u001b[A\n",
      "\n",
      " 61%|██████    | 313/512 [43:32<25:50,  7.79s/it]\u001b[A\u001b[A\n",
      "\n",
      " 61%|██████▏   | 314/512 [43:40<25:28,  7.72s/it]\u001b[A\u001b[A\n",
      "\n",
      " 62%|██████▏   | 315/512 [43:46<23:48,  7.25s/it]\u001b[A\u001b[A\n",
      "\n",
      " 62%|██████▏   | 316/512 [43:51<22:07,  6.77s/it]\u001b[A\u001b[A\n",
      "\n",
      " 62%|██████▏   | 317/512 [43:57<21:15,  6.54s/it]\u001b[A\u001b[A\n",
      "\n",
      " 62%|██████▏   | 318/512 [44:05<21:52,  6.77s/it]\u001b[A\u001b[A\n",
      "\n",
      " 62%|██████▏   | 319/512 [44:12<22:38,  7.04s/it]\u001b[A\u001b[A\n",
      "\n",
      " 62%|██████▎   | 320/512 [44:20<23:07,  7.23s/it]\u001b[A\u001b[A\n",
      "\n",
      " 63%|██████▎   | 321/512 [44:28<23:22,  7.34s/it]\u001b[A\u001b[A\n",
      "\n",
      " 63%|██████▎   | 322/512 [44:35<23:44,  7.50s/it]\u001b[A\u001b[A\n",
      "\n",
      " 63%|██████▎   | 323/512 [44:46<26:07,  8.30s/it]\u001b[A\u001b[A\n",
      "\n",
      " 63%|██████▎   | 324/512 [44:52<24:09,  7.71s/it]\u001b[A\u001b[A\n",
      "\n",
      " 63%|██████▎   | 325/512 [45:00<24:20,  7.81s/it]\u001b[A\u001b[A\n",
      "\n",
      " 64%|██████▎   | 326/512 [45:07<23:32,  7.59s/it]\u001b[A\u001b[A\n",
      "\n",
      " 64%|██████▍   | 327/512 [45:19<27:45,  9.00s/it]\u001b[A\u001b[A\n",
      "\n",
      " 64%|██████▍   | 328/512 [45:26<25:23,  8.28s/it]\u001b[A\u001b[A\n",
      "\n",
      " 64%|██████▍   | 329/512 [45:32<22:47,  7.47s/it]\u001b[A\u001b[A\n",
      "\n",
      " 64%|██████▍   | 330/512 [45:39<22:36,  7.46s/it]\u001b[A\u001b[A\n",
      "\n",
      " 65%|██████▍   | 331/512 [45:45<21:20,  7.07s/it]\u001b[A\u001b[A\n",
      "\n",
      " 65%|██████▍   | 332/512 [45:54<22:30,  7.50s/it]\u001b[A\u001b[A\n",
      "\n",
      " 65%|██████▌   | 333/512 [46:02<23:05,  7.74s/it]\u001b[A\u001b[A\n",
      "\n",
      " 65%|██████▌   | 334/512 [46:08<21:07,  7.12s/it]\u001b[A\u001b[A\n",
      "\n",
      " 65%|██████▌   | 335/512 [46:15<21:06,  7.15s/it]\u001b[A\u001b[A\n",
      "\n",
      " 66%|██████▌   | 336/512 [46:23<21:27,  7.31s/it]\u001b[A\u001b[A\n",
      "\n",
      " 66%|██████▌   | 337/512 [46:29<20:28,  7.02s/it]\u001b[A\u001b[A\n",
      "\n",
      " 66%|██████▌   | 338/512 [46:37<21:09,  7.30s/it]\u001b[A\u001b[A\n",
      "\n",
      " 66%|██████▌   | 339/512 [46:44<21:11,  7.35s/it]\u001b[A\u001b[A\n",
      "\n",
      " 66%|██████▋   | 340/512 [46:50<19:14,  6.71s/it]\u001b[A\u001b[A\n",
      "\n",
      " 67%|██████▋   | 341/512 [46:58<20:16,  7.12s/it]\u001b[A\u001b[A\n",
      "\n",
      " 67%|██████▋   | 342/512 [47:04<19:39,  6.94s/it]\u001b[A\u001b[A\n",
      "\n",
      " 67%|██████▋   | 343/512 [47:12<19:56,  7.08s/it]\u001b[A\u001b[A\n",
      "\n",
      " 67%|██████▋   | 344/512 [47:19<19:59,  7.14s/it]\u001b[A\u001b[A\n",
      "\n",
      " 67%|██████▋   | 345/512 [47:31<23:50,  8.57s/it]\u001b[A\u001b[A\n",
      "\n",
      " 68%|██████▊   | 346/512 [47:47<30:25, 11.00s/it]\u001b[A\u001b[A\n",
      "\n",
      " 68%|██████▊   | 347/512 [47:54<26:15,  9.55s/it]\u001b[A\u001b[A\n",
      "\n",
      " 68%|██████▊   | 348/512 [48:01<24:27,  8.95s/it]\u001b[A\u001b[A\n",
      "\n",
      " 68%|██████▊   | 349/512 [48:09<23:45,  8.75s/it]\u001b[A\u001b[A\n",
      "\n",
      " 68%|██████▊   | 350/512 [48:17<22:42,  8.41s/it]\u001b[A\u001b[A\n",
      "\n",
      " 69%|██████▊   | 351/512 [48:25<22:06,  8.24s/it]\u001b[A\u001b[A\n",
      "\n",
      " 69%|██████▉   | 352/512 [48:32<21:24,  8.03s/it]\u001b[A\u001b[A\n",
      "\n",
      " 69%|██████▉   | 353/512 [48:39<20:26,  7.72s/it]\u001b[A\u001b[A\n",
      "\n",
      " 69%|██████▉   | 354/512 [48:49<21:45,  8.26s/it]\u001b[A\u001b[A\n",
      "\n",
      " 69%|██████▉   | 355/512 [48:56<20:39,  7.90s/it]\u001b[A\u001b[A\n",
      "\n",
      " 70%|██████▉   | 356/512 [49:01<18:20,  7.06s/it]\u001b[A\u001b[A\n",
      "\n",
      " 70%|██████▉   | 357/512 [49:07<17:02,  6.59s/it]\u001b[A\u001b[A\n",
      "\n",
      " 70%|██████▉   | 358/512 [49:13<17:01,  6.63s/it]\u001b[A\u001b[A\n",
      "\n",
      " 70%|███████   | 359/512 [49:20<17:16,  6.78s/it]\u001b[A\u001b[A\n",
      "\n",
      " 70%|███████   | 360/512 [49:28<17:50,  7.04s/it]\u001b[A\u001b[A\n",
      "\n",
      " 71%|███████   | 361/512 [49:35<17:26,  6.93s/it]\u001b[A\u001b[A\n",
      "\n",
      " 71%|███████   | 362/512 [49:42<17:46,  7.11s/it]\u001b[A\u001b[A\n",
      "\n",
      " 71%|███████   | 363/512 [49:50<18:00,  7.25s/it]\u001b[A\u001b[A\n",
      "\n",
      " 71%|███████   | 364/512 [50:02<21:15,  8.62s/it]\u001b[A\u001b[A\n",
      "\n",
      " 71%|███████▏  | 365/512 [50:09<20:25,  8.34s/it]\u001b[A\u001b[A\n",
      "\n",
      " 71%|███████▏  | 366/512 [50:16<19:11,  7.89s/it]\u001b[A\u001b[A\n",
      "\n",
      " 72%|███████▏  | 367/512 [50:26<20:16,  8.39s/it]\u001b[A\u001b[A\n",
      "\n",
      " 72%|███████▏  | 368/512 [50:33<19:28,  8.12s/it]\u001b[A\u001b[A\n",
      "\n",
      " 72%|███████▏  | 369/512 [50:39<17:48,  7.47s/it]\u001b[A\u001b[A\n",
      "\n",
      " 72%|███████▏  | 370/512 [50:45<16:15,  6.87s/it]\u001b[A\u001b[A\n",
      "\n",
      " 72%|███████▏  | 371/512 [50:51<15:59,  6.80s/it]\u001b[A\u001b[A\n",
      "\n",
      " 73%|███████▎  | 372/512 [50:59<16:27,  7.05s/it]\u001b[A\u001b[A\n",
      "\n",
      " 73%|███████▎  | 373/512 [51:05<15:50,  6.84s/it]\u001b[A\u001b[A\n",
      "\n",
      " 73%|███████▎  | 374/512 [51:11<14:49,  6.44s/it]\u001b[A\u001b[A\n",
      "\n",
      " 73%|███████▎  | 375/512 [51:16<13:51,  6.07s/it]\u001b[A\u001b[A\n",
      "\n",
      " 73%|███████▎  | 376/512 [51:22<13:37,  6.01s/it]\u001b[A\u001b[A\n",
      "\n",
      " 74%|███████▎  | 377/512 [51:29<14:18,  6.36s/it]\u001b[A\u001b[A\n",
      "\n",
      " 74%|███████▍  | 378/512 [51:34<13:28,  6.03s/it]\u001b[A\u001b[A\n",
      "\n",
      " 74%|███████▍  | 379/512 [51:43<15:24,  6.95s/it]\u001b[A\u001b[A\n",
      "\n",
      " 74%|███████▍  | 380/512 [51:48<13:51,  6.30s/it]\u001b[A\u001b[A\n",
      "\n",
      " 74%|███████▍  | 381/512 [51:59<16:48,  7.70s/it]\u001b[A\u001b[A\n",
      "\n",
      " 75%|███████▍  | 382/512 [52:06<16:00,  7.38s/it]\u001b[A\u001b[A\n",
      "\n",
      " 75%|███████▍  | 383/512 [52:14<16:07,  7.50s/it]\u001b[A\u001b[A\n",
      "\n",
      " 75%|███████▌  | 384/512 [52:21<16:13,  7.60s/it]\u001b[A\u001b[A\n",
      "\n",
      " 75%|███████▌  | 385/512 [52:30<16:32,  7.81s/it]\u001b[A\u001b[A\n",
      "\n",
      " 75%|███████▌  | 386/512 [52:40<18:05,  8.61s/it]\u001b[A\u001b[A\n",
      "\n",
      " 76%|███████▌  | 387/512 [52:46<16:03,  7.71s/it]\u001b[A\u001b[A\n",
      "\n",
      " 76%|███████▌  | 388/512 [52:53<15:25,  7.46s/it]\u001b[A\u001b[A\n",
      "\n",
      " 76%|███████▌  | 389/512 [53:02<16:09,  7.88s/it]\u001b[A\u001b[A\n",
      "\n",
      " 76%|███████▌  | 390/512 [53:08<15:01,  7.39s/it]\u001b[A\u001b[A\n",
      "\n",
      " 76%|███████▋  | 391/512 [53:13<13:51,  6.87s/it]\u001b[A\u001b[A\n",
      "\n",
      " 77%|███████▋  | 392/512 [53:20<13:42,  6.85s/it]\u001b[A\u001b[A\n",
      "\n",
      " 77%|███████▋  | 393/512 [53:27<13:46,  6.95s/it]\u001b[A\u001b[A\n",
      "\n",
      " 77%|███████▋  | 394/512 [53:32<12:20,  6.27s/it]\u001b[A\u001b[A\n",
      "\n",
      " 77%|███████▋  | 395/512 [53:37<11:41,  6.00s/it]\u001b[A\u001b[A\n",
      "\n",
      " 77%|███████▋  | 396/512 [53:44<11:38,  6.02s/it]\u001b[A\u001b[A\n",
      "\n",
      " 78%|███████▊  | 397/512 [53:51<12:31,  6.54s/it]\u001b[A\u001b[A\n",
      "\n",
      " 78%|███████▊  | 398/512 [53:57<12:09,  6.40s/it]\u001b[A\u001b[A\n",
      "\n",
      " 78%|███████▊  | 399/512 [54:04<12:26,  6.61s/it]\u001b[A\u001b[A\n",
      "\n",
      " 78%|███████▊  | 400/512 [54:14<14:10,  7.59s/it]\u001b[A\u001b[A\n",
      "\n",
      " 78%|███████▊  | 401/512 [54:21<13:22,  7.23s/it]\u001b[A\u001b[A\n",
      "\n",
      " 79%|███████▊  | 402/512 [54:28<13:30,  7.37s/it]\u001b[A\u001b[A\n",
      "\n",
      " 79%|███████▊  | 403/512 [54:35<12:55,  7.12s/it]\u001b[A\u001b[A\n",
      "\n",
      " 79%|███████▉  | 404/512 [54:41<12:18,  6.84s/it]\u001b[A\u001b[A\n",
      "\n",
      " 79%|███████▉  | 405/512 [54:46<11:02,  6.19s/it]\u001b[A\u001b[A\n",
      "\n",
      " 79%|███████▉  | 406/512 [54:53<11:24,  6.46s/it]\u001b[A\u001b[A\n",
      "\n",
      " 79%|███████▉  | 407/512 [55:01<11:55,  6.81s/it]\u001b[A\u001b[A\n",
      "\n",
      " 80%|███████▉  | 408/512 [55:05<10:40,  6.16s/it]\u001b[A\u001b[A\n",
      "\n",
      " 80%|███████▉  | 409/512 [55:13<11:15,  6.56s/it]\u001b[A\u001b[A\n",
      "\n",
      " 80%|████████  | 410/512 [55:18<10:34,  6.23s/it]\u001b[A\u001b[A\n",
      "\n",
      " 80%|████████  | 411/512 [55:24<10:17,  6.11s/it]\u001b[A\u001b[A\n",
      "\n",
      " 80%|████████  | 412/512 [55:31<10:40,  6.41s/it]\u001b[A\u001b[A\n",
      "\n",
      " 81%|████████  | 413/512 [55:37<10:29,  6.36s/it]\u001b[A\u001b[A\n",
      "\n",
      " 81%|████████  | 414/512 [55:44<10:33,  6.47s/it]\u001b[A\u001b[A\n",
      "\n",
      " 81%|████████  | 415/512 [55:53<11:51,  7.33s/it]\u001b[A\u001b[A\n",
      "\n",
      " 81%|████████▏ | 416/512 [55:59<10:42,  6.69s/it]\u001b[A\u001b[A\n",
      "\n",
      " 81%|████████▏ | 417/512 [56:04<09:57,  6.29s/it]\u001b[A\u001b[A\n",
      "\n",
      " 82%|████████▏ | 418/512 [56:09<09:29,  6.06s/it]\u001b[A\u001b[A\n",
      "\n",
      " 82%|████████▏ | 419/512 [56:18<10:37,  6.86s/it]\u001b[A\u001b[A\n",
      "\n",
      " 82%|████████▏ | 420/512 [56:24<10:06,  6.59s/it]\u001b[A\u001b[A\n",
      "\n",
      " 82%|████████▏ | 421/512 [56:32<10:25,  6.88s/it]\u001b[A\u001b[A\n",
      "\n",
      " 82%|████████▏ | 422/512 [56:39<10:28,  6.98s/it]\u001b[A\u001b[A\n",
      "\n",
      " 83%|████████▎ | 423/512 [56:46<10:37,  7.16s/it]\u001b[A\u001b[A\n",
      "\n",
      " 83%|████████▎ | 424/512 [56:53<10:25,  7.11s/it]\u001b[A\u001b[A\n",
      "\n",
      " 83%|████████▎ | 425/512 [56:59<09:33,  6.59s/it]\u001b[A\u001b[A\n",
      "\n",
      " 83%|████████▎ | 426/512 [57:08<10:39,  7.44s/it]\u001b[A\u001b[A\n",
      "\n",
      " 83%|████████▎ | 427/512 [57:15<10:05,  7.12s/it]\u001b[A\u001b[A\n",
      "\n",
      " 84%|████████▎ | 428/512 [57:20<09:13,  6.59s/it]\u001b[A\u001b[A\n",
      "\n",
      " 84%|████████▍ | 429/512 [57:24<08:10,  5.91s/it]\u001b[A\u001b[A\n",
      "\n",
      " 84%|████████▍ | 430/512 [57:30<07:55,  5.80s/it]\u001b[A\u001b[A\n",
      "\n",
      " 84%|████████▍ | 431/512 [57:37<08:33,  6.34s/it]\u001b[A\u001b[A\n",
      "\n",
      " 84%|████████▍ | 432/512 [57:44<08:22,  6.28s/it]\u001b[A\u001b[A\n",
      "\n",
      " 85%|████████▍ | 433/512 [57:53<09:40,  7.35s/it]\u001b[A\u001b[A\n",
      "\n",
      " 85%|████████▍ | 434/512 [57:59<08:42,  6.70s/it]\u001b[A\u001b[A\n",
      "\n",
      " 85%|████████▍ | 435/512 [58:06<08:40,  6.76s/it]\u001b[A\u001b[A\n",
      "\n",
      " 85%|████████▌ | 436/512 [58:14<09:06,  7.19s/it]\u001b[A\u001b[A\n",
      "\n",
      " 85%|████████▌ | 437/512 [58:19<08:07,  6.50s/it]\u001b[A\u001b[A\n",
      "\n",
      " 86%|████████▌ | 438/512 [58:25<07:49,  6.34s/it]\u001b[A\u001b[A\n",
      "\n",
      " 86%|████████▌ | 439/512 [58:30<07:28,  6.14s/it]\u001b[A\u001b[A\n",
      "\n",
      " 86%|████████▌ | 440/512 [58:37<07:34,  6.32s/it]\u001b[A\u001b[A\n",
      "\n",
      " 86%|████████▌ | 441/512 [58:46<08:31,  7.20s/it]\u001b[A\u001b[A\n",
      "\n",
      " 86%|████████▋ | 442/512 [58:51<07:42,  6.60s/it]\u001b[A\u001b[A\n",
      "\n",
      " 87%|████████▋ | 443/512 [59:02<09:03,  7.88s/it]\u001b[A\u001b[A\n",
      "\n",
      " 87%|████████▋ | 444/512 [59:08<08:14,  7.28s/it]\u001b[A\u001b[A\n",
      "\n",
      " 87%|████████▋ | 445/512 [59:13<07:23,  6.62s/it]\u001b[A\u001b[A\n",
      "\n",
      " 87%|████████▋ | 446/512 [59:20<07:22,  6.71s/it]\u001b[A\u001b[A\n",
      "\n",
      " 87%|████████▋ | 447/512 [59:27<07:14,  6.69s/it]\u001b[A\u001b[A\n",
      "\n",
      " 88%|████████▊ | 448/512 [59:35<07:42,  7.23s/it]\u001b[A\u001b[A\n",
      "\n",
      " 88%|████████▊ | 449/512 [59:40<06:47,  6.47s/it]\u001b[A\u001b[A\n",
      "\n",
      " 88%|████████▊ | 450/512 [59:47<06:50,  6.62s/it]\u001b[A\u001b[A\n",
      "\n",
      " 88%|████████▊ | 451/512 [59:54<06:55,  6.82s/it]\u001b[A\u001b[A\n",
      "\n",
      " 88%|████████▊ | 452/512 [1:00:02<07:07,  7.13s/it]\u001b[A\u001b[A\n",
      "\n",
      " 88%|████████▊ | 453/512 [1:00:08<06:34,  6.68s/it]\u001b[A\u001b[A\n",
      "\n",
      " 89%|████████▊ | 454/512 [1:00:18<07:32,  7.80s/it]\u001b[A\u001b[A\n",
      "\n",
      " 89%|████████▉ | 455/512 [1:00:26<07:31,  7.92s/it]\u001b[A\u001b[A\n",
      "\n",
      " 89%|████████▉ | 456/512 [1:00:35<07:27,  7.99s/it]\u001b[A\u001b[A\n",
      "\n",
      " 89%|████████▉ | 457/512 [1:00:40<06:38,  7.25s/it]\u001b[A\u001b[A\n",
      "\n",
      " 89%|████████▉ | 458/512 [1:00:47<06:33,  7.30s/it]\u001b[A\u001b[A\n",
      "\n",
      " 90%|████████▉ | 459/512 [1:00:53<06:01,  6.82s/it]\u001b[A\u001b[A\n",
      "\n",
      " 90%|████████▉ | 460/512 [1:01:00<06:01,  6.95s/it]\u001b[A\u001b[A\n",
      "\n",
      " 90%|█████████ | 461/512 [1:01:08<05:56,  6.99s/it]\u001b[A\u001b[A\n",
      "\n",
      " 90%|█████████ | 462/512 [1:01:16<06:19,  7.59s/it]\u001b[A\u001b[A\n",
      "\n",
      " 90%|█████████ | 463/512 [1:01:25<06:20,  7.77s/it]\u001b[A\u001b[A\n",
      "\n",
      " 91%|█████████ | 464/512 [1:01:29<05:28,  6.84s/it]\u001b[A\u001b[A\n",
      "\n",
      " 91%|█████████ | 465/512 [1:01:35<05:09,  6.59s/it]\u001b[A\u001b[A\n",
      "\n",
      " 91%|█████████ | 466/512 [1:01:44<05:34,  7.26s/it]\u001b[A\u001b[A\n",
      "\n",
      " 91%|█████████ | 467/512 [1:01:49<04:54,  6.55s/it]\u001b[A\u001b[A\n",
      "\n",
      " 91%|█████████▏| 468/512 [1:01:54<04:27,  6.08s/it]\u001b[A\u001b[A\n",
      "\n",
      " 92%|█████████▏| 469/512 [1:02:02<04:46,  6.67s/it]\u001b[A\u001b[A\n",
      "\n",
      " 92%|█████████▏| 470/512 [1:02:09<04:43,  6.75s/it]\u001b[A\u001b[A\n",
      "\n",
      " 92%|█████████▏| 471/512 [1:02:15<04:23,  6.44s/it]\u001b[A\u001b[A\n",
      "\n",
      " 92%|█████████▏| 472/512 [1:02:22<04:30,  6.77s/it]\u001b[A\u001b[A\n",
      "\n",
      " 92%|█████████▏| 473/512 [1:02:31<04:45,  7.32s/it]\u001b[A\u001b[A\n",
      "\n",
      " 93%|█████████▎| 474/512 [1:02:37<04:20,  6.85s/it]\u001b[A\u001b[A\n",
      "\n",
      " 93%|█████████▎| 475/512 [1:02:45<04:33,  7.40s/it]\u001b[A\u001b[A\n",
      "\n",
      " 93%|█████████▎| 476/512 [1:02:50<04:01,  6.72s/it]\u001b[A\u001b[A\n",
      "\n",
      " 93%|█████████▎| 477/512 [1:02:57<03:49,  6.57s/it]\u001b[A\u001b[A\n",
      "\n",
      " 93%|█████████▎| 478/512 [1:03:05<03:58,  7.00s/it]\u001b[A\u001b[A\n",
      "\n",
      " 94%|█████████▎| 479/512 [1:03:14<04:16,  7.76s/it]\u001b[A\u001b[A\n",
      "\n",
      " 94%|█████████▍| 480/512 [1:03:23<04:20,  8.15s/it]\u001b[A\u001b[A\n",
      "\n",
      " 94%|█████████▍| 481/512 [1:03:29<03:53,  7.53s/it]\u001b[A\u001b[A\n",
      "\n",
      " 94%|█████████▍| 482/512 [1:03:34<03:21,  6.72s/it]\u001b[A\u001b[A\n",
      "\n",
      " 94%|█████████▍| 483/512 [1:03:41<03:15,  6.73s/it]\u001b[A\u001b[A\n",
      "\n",
      " 95%|█████████▍| 484/512 [1:03:47<03:00,  6.43s/it]\u001b[A\u001b[A\n",
      "\n",
      " 95%|█████████▍| 485/512 [1:03:52<02:47,  6.20s/it]\u001b[A\u001b[A\n",
      "\n",
      " 95%|█████████▍| 486/512 [1:03:59<02:45,  6.38s/it]\u001b[A\u001b[A\n",
      "\n",
      " 95%|█████████▌| 487/512 [1:04:06<02:43,  6.54s/it]\u001b[A\u001b[A\n",
      "\n",
      " 95%|█████████▌| 488/512 [1:04:16<03:01,  7.58s/it]\u001b[A\u001b[A\n",
      "\n",
      " 96%|█████████▌| 489/512 [1:04:21<02:38,  6.88s/it]\u001b[A\u001b[A\n",
      "\n",
      " 96%|█████████▌| 490/512 [1:04:29<02:34,  7.03s/it]\u001b[A\u001b[A\n",
      "\n",
      " 96%|█████████▌| 491/512 [1:04:37<02:37,  7.52s/it]\u001b[A\u001b[A\n",
      "\n",
      " 96%|█████████▌| 492/512 [1:04:46<02:35,  7.76s/it]\u001b[A\u001b[A\n",
      "\n",
      " 96%|█████████▋| 493/512 [1:04:52<02:16,  7.20s/it]\u001b[A\u001b[A\n",
      "\n",
      " 96%|█████████▋| 494/512 [1:05:00<02:15,  7.55s/it]\u001b[A\u001b[A\n",
      "\n",
      " 97%|█████████▋| 495/512 [1:05:08<02:13,  7.84s/it]\u001b[A\u001b[A\n",
      "\n",
      " 97%|█████████▋| 496/512 [1:05:15<01:58,  7.39s/it]\u001b[A\u001b[A\n",
      "\n",
      " 97%|█████████▋| 497/512 [1:05:25<02:02,  8.19s/it]\u001b[A\u001b[A\n",
      "\n",
      " 97%|█████████▋| 498/512 [1:05:31<01:46,  7.58s/it]\u001b[A\u001b[A\n",
      "\n",
      " 97%|█████████▋| 499/512 [1:05:36<01:30,  6.95s/it]\u001b[A\u001b[A\n",
      "\n",
      " 98%|█████████▊| 500/512 [1:05:42<01:16,  6.40s/it]\u001b[A\u001b[A\n",
      "\n",
      " 98%|█████████▊| 501/512 [1:05:48<01:10,  6.38s/it]\u001b[A\u001b[A\n",
      "\n",
      " 98%|█████████▊| 502/512 [1:05:54<01:02,  6.30s/it]\u001b[A\u001b[A\n",
      "\n",
      " 98%|█████████▊| 503/512 [1:05:59<00:52,  5.79s/it]\u001b[A\u001b[A\n",
      "\n",
      " 98%|█████████▊| 504/512 [1:06:04<00:45,  5.74s/it]\u001b[A\u001b[A\n",
      "\n",
      " 99%|█████████▊| 505/512 [1:06:11<00:41,  5.92s/it]\u001b[A\u001b[A\n",
      "\n",
      " 99%|█████████▉| 506/512 [1:06:17<00:35,  5.94s/it]\u001b[A\u001b[A\n",
      "\n",
      " 99%|█████████▉| 507/512 [1:06:28<00:37,  7.51s/it]\u001b[A\u001b[A\n",
      "\n",
      " 99%|█████████▉| 508/512 [1:06:38<00:32,  8.21s/it]\u001b[A\u001b[A\n",
      "\n",
      " 99%|█████████▉| 509/512 [1:06:47<00:25,  8.42s/it]\u001b[A\u001b[A\n",
      "\n",
      "100%|█████████▉| 510/512 [1:06:56<00:17,  8.72s/it]\u001b[A\u001b[A\n",
      "\n",
      "100%|█████████▉| 511/512 [1:07:03<00:08,  8.36s/it]\u001b[A\u001b[A\n",
      "\n",
      "100%|██████████| 512/512 [1:07:09<00:00,  7.61s/it]\u001b[A\u001b[A"
     ]
    }
   ],
   "source": [
    "# Parameters\n",
    "reg_covar = 0.5\n",
    "n_cluster = 3\n",
    "n_init = 5 # need to limit number of init kmeans\n",
    "\n",
    "cols = [c for c in train.columns if c not in ['id', 'target']]\n",
    "cols.remove('wheezy-copper-turtle-magic')\n",
    "oof_gm = np.zeros(len(train))\n",
    "oof_gm2 = np.zeros(len(train))\n",
    "\n",
    "#preds_gm = np.zeros(len(test_s))\n",
    "oof_full = np.zeros((len(train), n_cluster*2))\n",
    "#preds_full = np.zeros((len(test_s), n_cluster*2))\n",
    "\n",
    "# BUILD 512 SEPARATE MODELS\n",
    "for i in tqdm(range(512)):\n",
    "    # ONLY TRAIN WITH DATA WHERE WHEEZY EQUALS i\n",
    "    train2 = train[train['wheezy-copper-turtle-magic']==i]\n",
    "    test2 = test[test['wheezy-copper-turtle-magic']==i]\n",
    "    idx1 = train2.index\n",
    "    idx2 = test2.index\n",
    "    train2.reset_index(drop=True,inplace=True)\n",
    "    \n",
    "    # FEATURE SELECTION WITH Standard deviation (USE APPROX 40 OF 255 FEATURES)\n",
    "    sel = VarianceThreshold(threshold=1.5).fit(train2[cols])\n",
    "    train3 = sel.transform(train2[cols])\n",
    "    test3 = sel.transform(test2[cols])\n",
    "    \n",
    "    \n",
    "    # STRATIFIED K-FOLD\n",
    "    skf = StratifiedKFold(n_splits=11, random_state=60, shuffle=True)\n",
    "    for train_index, val_index in skf.split(train3, train2['target']):\n",
    "                \n",
    "        #ms, ps = get_mean_cov(train3[train_index,:],train2.loc[train_index]['target'].values)\n",
    "        \n",
    "        gm1 = GaussianMixture(n_components=n_cluster, covariance_type='full', tol=0.001, init_params ='kmeans',\n",
    "                              reg_covar=reg_covar, weights_init=np.ones(n_cluster)/n_cluster,\n",
    "                              n_init=n_init, max_iter=100) #, means_init=ms, precisions_init=ps\n",
    "\n",
    "        train4 = train3[train_index,:]\n",
    "        #print((train2.iloc[train_index,:]['target'] == 1))\n",
    "        gm1.fit(train4[(train2.iloc[train_index,:]['target'] == 1),:])\n",
    "        \n",
    "        gm0 = GaussianMixture(n_components=n_cluster, covariance_type='full', tol=0.001, init_params ='kmeans',\n",
    "                              reg_covar=reg_covar, weights_init=np.ones(n_cluster)/n_cluster,\n",
    "                              n_init=n_init, max_iter=100)\n",
    "        gm0.fit(train4[(train2.iloc[train_index,:]['target'] == 0)])\n",
    "        \n",
    "        gm = GaussianMixture(n_components=2*n_cluster, covariance_type='full', tol=0.001,\n",
    "                             reg_covar=reg_covar, n_init=10, max_iter=100,\n",
    "                             means_init= np.concatenate((gm0.means_, gm1.means_), axis = 0),\n",
    "                             precisions_init=np.concatenate((gm0.precisions_, gm1.precisions_),\n",
    "                                                             axis = 0))\n",
    "        gm.fit(np.concatenate((train3, test3), axis=0))\n",
    "        \n",
    "        \n",
    "        #preds2 = gm.predict_proba(test3)[:,1]\n",
    "        oof_full[idx1[val_index], :] = gm.predict_proba(train3[val_index,:])\n",
    "        oof_gm[idx1[val_index]] = gm.predict_proba(train3[val_index,:])[:,n_cluster:].max(axis=1) / gm.predict_proba(train3[val_index,:])[:,:n_cluster].max(axis=1)\n",
    "        oof_gm2[idx1[val_index]] = gm.predict_proba(train3[val_index,:])[:,n_cluster:].sum(axis=1) / gm.predict_proba(train3[val_index,:])[:,:n_cluster].sum(axis=1)\n",
    "        #preds_gm[idx2] += preds2 / skf.n_splits\n",
    "        "
   ]
  },
  {
   "cell_type": "code",
   "execution_count": 140,
   "metadata": {},
   "outputs": [
    {
     "name": "stdout",
     "output_type": "stream",
     "text": [
      "0.9748145087115295\n",
      "0.9748153891607868\n"
     ]
    }
   ],
   "source": [
    "print(roc_auc_score(train['target'].values, oof_gm))\n",
    "print(roc_auc_score(train['target'].values, oof_gm2))"
   ]
  },
  {
   "cell_type": "markdown",
   "metadata": {},
   "source": [
    "Other tested techniques without success :\n",
    "- Analysis of correlations : between the variables, between the lines\n",
    "- Optimization of AUC with XGboost (objective = 'rankPairwise')\n",
    "- Look for the seeds used to generate the dataset !\n",
    "- Optimize the hyperparameters of QDA/GMM (regularization)"
   ]
  },
  {
   "cell_type": "markdown",
   "metadata": {},
   "source": [
    "Difficulties of the challenge:\n",
    "- geometrical problem but hard to make graphical representations of the problem because of high dimension\n",
    "- a lot of things tried without success"
   ]
  },
  {
   "cell_type": "markdown",
   "metadata": {},
   "source": [
    "Autres stratégies qui fonctionnaient sur ce problème :\n",
    "- (with QDA) pseudo labelling : use a first model to predict and "
   ]
  },
  {
   "cell_type": "markdown",
   "metadata": {},
   "source": [
    "# What should I have done to win ?\n",
    "\n",
    "1. Identify from the data, with no doubts, that there was 3 clusters per class\n",
    "2. Figured out that with a GMM with 3 clusters per, the model gave a perfect prediction (ignoring the flipped labels)\n",
    "3. Find tricks to maximize the score given the proportion of flipped labels and the fact that GMM gave the perfect predictions"
   ]
  }
 ],
 "metadata": {
  "kernelspec": {
   "display_name": "Python 3",
   "language": "python",
   "name": "python3"
  },
  "language_info": {
   "codemirror_mode": {
    "name": "ipython",
    "version": 3
   },
   "file_extension": ".py",
   "mimetype": "text/x-python",
   "name": "python",
   "nbconvert_exporter": "python",
   "pygments_lexer": "ipython3",
   "version": "3.7.3"
  }
 },
 "nbformat": 4,
 "nbformat_minor": 2
}
